{
 "cells": [
  {
   "cell_type": "markdown",
   "metadata": {},
   "source": [
    "# Objective: \n",
    "Analyze ~500,000 food reviews from Amazon, using natural language processing technique Bag of words and TFIDF, and Naive Bayes ML algorithm\n",
    "\n",
    "## data source: \n",
    "https://www.kaggle.com/snap/amazon-fine-food-reviews\n",
    "\n",
    "1. Number of reviews: 568,454\n",
    "2. Number of users: 256,059\n",
    "3. Number of products: 74,258\n",
    "4. Timespan: Oct 1999 - Oct 2012\n",
    "5. Number of Attributes/Columns in data: 10 \n",
    "6. Attribute Information:\n",
    "    1. Id\n",
    "    2. ProductId - unique identifier for the product\n",
    "    3. UserId - unqiue identifier for the user\n",
    "    4. ProfileName\n",
    "    5. HelpfulnessNumerator - number of users who found the review helpful\n",
    "    6. HelpfulnessDenominator - number of users who indicated whether they found the review helpful or not\n",
    "    7. Score - rating between 1 and 5\n",
    "    8. Time - timestamp for the review\n",
    "    9. Summary - brief summary of the review\n",
    "    10. Text - text of the review\n",
    "Given a review, determine whether the review is positive (rating of 4 or 5) or negative (rating of 1 or 2).\n",
    "\n",
    "<br>\n",
    "[Q] How to determine if a review is positive or negative?<br>\n",
    "<br> \n",
    "[Ans] We could use Score/Rating. A rating of 4 or 5 can be cosnidered as a positive review. A rating of 1 or 2 can be considered as negative one. A review of rating 3 is considered nuetral and such reviews are ignored from our analysis. This is an approximate and proxy way of determining the polarity (positivity/negativity) of a review."
   ]
  },
  {
   "cell_type": "markdown",
   "metadata": {},
   "source": [
    "# [1]. Reading Data"
   ]
  },
  {
   "cell_type": "markdown",
   "metadata": {},
   "source": [
    "## [1.1] Loading the data\n",
    "\n",
    "The dataset is available in two forms\n",
    "1. .csv file\n",
    "2. SQLite Database\n",
    "\n",
    "In order to load the data, We have used the sqlite and pandas to read and analyse the data.\n",
    "<br> \n",
    "\n",
    "Here as we only want to get the global sentiment of the recommendations (positive or negative), we will purposefully ignore all Scores equal to 3. If the score is above 3, then the recommendation wil be set to \"positive\". Otherwise, it will be set to \"negative\"."
   ]
  },
  {
   "cell_type": "code",
   "execution_count": 2,
   "metadata": {},
   "outputs": [],
   "source": [
    "%matplotlib inline\n",
    "import warnings\n",
    "warnings.filterwarnings(\"ignore\")\n",
    "\n",
    "import numpy as np\n",
    "import pandas as pd\n",
    "import matplotlib.pyplot as plt\n",
    "import sqlite3 as sql\n",
    "import seaborn as sns\n",
    "import re\n",
    "from nltk.corpus import stopwords\n",
    "import nltk\n",
    "# nltk.download('stopwords')\n",
    "import time\n",
    "# import umap\n",
    "from sklearn.feature_extraction.text import CountVectorizer\n",
    "from sklearn.naive_bayes import MultinomialNB\n",
    "from sklearn.metrics import accuracy_score\n",
    "from sklearn.metrics import classification_report\n",
    "from sklearn.decomposition import TruncatedSVD\n",
    "from sklearn.feature_extraction.text import TfidfVectorizer\n",
    "import gensim\n",
    "from datetime import timedelta"
   ]
  },
  {
   "cell_type": "code",
   "execution_count": 21,
   "metadata": {},
   "outputs": [
    {
     "name": "stdout",
     "output_type": "stream",
     "text": [
      "size of our dataset is (525814, 10)\n"
     ]
    },
    {
     "data": {
      "text/html": [
       "<div>\n",
       "<style scoped>\n",
       "    .dataframe tbody tr th:only-of-type {\n",
       "        vertical-align: middle;\n",
       "    }\n",
       "\n",
       "    .dataframe tbody tr th {\n",
       "        vertical-align: top;\n",
       "    }\n",
       "\n",
       "    .dataframe thead th {\n",
       "        text-align: right;\n",
       "    }\n",
       "</style>\n",
       "<table border=\"1\" class=\"dataframe\">\n",
       "  <thead>\n",
       "    <tr style=\"text-align: right;\">\n",
       "      <th></th>\n",
       "      <th>Id</th>\n",
       "      <th>ProductId</th>\n",
       "      <th>UserId</th>\n",
       "      <th>ProfileName</th>\n",
       "      <th>HelpfulnessNumerator</th>\n",
       "      <th>HelpfulnessDenominator</th>\n",
       "      <th>Score</th>\n",
       "      <th>Time</th>\n",
       "      <th>Summary</th>\n",
       "      <th>Text</th>\n",
       "    </tr>\n",
       "  </thead>\n",
       "  <tbody>\n",
       "    <tr>\n",
       "      <th>0</th>\n",
       "      <td>1</td>\n",
       "      <td>B001E4KFG0</td>\n",
       "      <td>A3SGXH7AUHU8GW</td>\n",
       "      <td>delmartian</td>\n",
       "      <td>1</td>\n",
       "      <td>1</td>\n",
       "      <td>5</td>\n",
       "      <td>1303862400</td>\n",
       "      <td>Good Quality Dog Food</td>\n",
       "      <td>I have bought several of the Vitality canned d...</td>\n",
       "    </tr>\n",
       "    <tr>\n",
       "      <th>1</th>\n",
       "      <td>2</td>\n",
       "      <td>B00813GRG4</td>\n",
       "      <td>A1D87F6ZCVE5NK</td>\n",
       "      <td>dll pa</td>\n",
       "      <td>0</td>\n",
       "      <td>0</td>\n",
       "      <td>1</td>\n",
       "      <td>1346976000</td>\n",
       "      <td>Not as Advertised</td>\n",
       "      <td>Product arrived labeled as Jumbo Salted Peanut...</td>\n",
       "    </tr>\n",
       "    <tr>\n",
       "      <th>2</th>\n",
       "      <td>3</td>\n",
       "      <td>B000LQOCH0</td>\n",
       "      <td>ABXLMWJIXXAIN</td>\n",
       "      <td>Natalia Corres \"Natalia Corres\"</td>\n",
       "      <td>1</td>\n",
       "      <td>1</td>\n",
       "      <td>4</td>\n",
       "      <td>1219017600</td>\n",
       "      <td>\"Delight\" says it all</td>\n",
       "      <td>This is a confection that has been around a fe...</td>\n",
       "    </tr>\n",
       "    <tr>\n",
       "      <th>3</th>\n",
       "      <td>4</td>\n",
       "      <td>B000UA0QIQ</td>\n",
       "      <td>A395BORC6FGVXV</td>\n",
       "      <td>Karl</td>\n",
       "      <td>3</td>\n",
       "      <td>3</td>\n",
       "      <td>2</td>\n",
       "      <td>1307923200</td>\n",
       "      <td>Cough Medicine</td>\n",
       "      <td>If you are looking for the secret ingredient i...</td>\n",
       "    </tr>\n",
       "    <tr>\n",
       "      <th>4</th>\n",
       "      <td>5</td>\n",
       "      <td>B006K2ZZ7K</td>\n",
       "      <td>A1UQRSCLF8GW1T</td>\n",
       "      <td>Michael D. Bigham \"M. Wassir\"</td>\n",
       "      <td>0</td>\n",
       "      <td>0</td>\n",
       "      <td>5</td>\n",
       "      <td>1350777600</td>\n",
       "      <td>Great taffy</td>\n",
       "      <td>Great taffy at a great price.  There was a wid...</td>\n",
       "    </tr>\n",
       "  </tbody>\n",
       "</table>\n",
       "</div>"
      ],
      "text/plain": [
       "   Id   ProductId          UserId                      ProfileName  \\\n",
       "0   1  B001E4KFG0  A3SGXH7AUHU8GW                       delmartian   \n",
       "1   2  B00813GRG4  A1D87F6ZCVE5NK                           dll pa   \n",
       "2   3  B000LQOCH0   ABXLMWJIXXAIN  Natalia Corres \"Natalia Corres\"   \n",
       "3   4  B000UA0QIQ  A395BORC6FGVXV                             Karl   \n",
       "4   5  B006K2ZZ7K  A1UQRSCLF8GW1T    Michael D. Bigham \"M. Wassir\"   \n",
       "\n",
       "   HelpfulnessNumerator  HelpfulnessDenominator  Score        Time  \\\n",
       "0                     1                       1      5  1303862400   \n",
       "1                     0                       0      1  1346976000   \n",
       "2                     1                       1      4  1219017600   \n",
       "3                     3                       3      2  1307923200   \n",
       "4                     0                       0      5  1350777600   \n",
       "\n",
       "                 Summary                                               Text  \n",
       "0  Good Quality Dog Food  I have bought several of the Vitality canned d...  \n",
       "1      Not as Advertised  Product arrived labeled as Jumbo Salted Peanut...  \n",
       "2  \"Delight\" says it all  This is a confection that has been around a fe...  \n",
       "3         Cough Medicine  If you are looking for the secret ingredient i...  \n",
       "4            Great taffy  Great taffy at a great price.  There was a wid...  "
      ]
     },
     "execution_count": 21,
     "metadata": {},
     "output_type": "execute_result"
    }
   ],
   "source": [
    "#establishing the sql connection\n",
    "amazon_df_con = sql.connect('database.sqlite')\n",
    "\n",
    "#reading the data from sql connection\n",
    "amazon_df = pd.read_sql(\"SELECT * FROM Reviews WHERE Score!= 3\", con=amazon_df_con)\n",
    "\n",
    "print(\"size of our dataset is\", amazon_df.shape)\n",
    "amazon_df.head()"
   ]
  },
  {
   "cell_type": "code",
   "execution_count": 22,
   "metadata": {},
   "outputs": [
    {
     "data": {
      "text/html": [
       "<div>\n",
       "<style scoped>\n",
       "    .dataframe tbody tr th:only-of-type {\n",
       "        vertical-align: middle;\n",
       "    }\n",
       "\n",
       "    .dataframe tbody tr th {\n",
       "        vertical-align: top;\n",
       "    }\n",
       "\n",
       "    .dataframe thead th {\n",
       "        text-align: right;\n",
       "    }\n",
       "</style>\n",
       "<table border=\"1\" class=\"dataframe\">\n",
       "  <thead>\n",
       "    <tr style=\"text-align: right;\">\n",
       "      <th></th>\n",
       "      <th>Id</th>\n",
       "      <th>ProductId</th>\n",
       "      <th>UserId</th>\n",
       "      <th>ProfileName</th>\n",
       "      <th>HelpfulnessNumerator</th>\n",
       "      <th>HelpfulnessDenominator</th>\n",
       "      <th>Score</th>\n",
       "      <th>Time</th>\n",
       "      <th>Summary</th>\n",
       "      <th>Text</th>\n",
       "    </tr>\n",
       "  </thead>\n",
       "  <tbody>\n",
       "    <tr>\n",
       "      <th>0</th>\n",
       "      <td>1</td>\n",
       "      <td>B001E4KFG0</td>\n",
       "      <td>A3SGXH7AUHU8GW</td>\n",
       "      <td>delmartian</td>\n",
       "      <td>1</td>\n",
       "      <td>1</td>\n",
       "      <td>Positive</td>\n",
       "      <td>1303862400</td>\n",
       "      <td>Good Quality Dog Food</td>\n",
       "      <td>I have bought several of the Vitality canned d...</td>\n",
       "    </tr>\n",
       "    <tr>\n",
       "      <th>1</th>\n",
       "      <td>2</td>\n",
       "      <td>B00813GRG4</td>\n",
       "      <td>A1D87F6ZCVE5NK</td>\n",
       "      <td>dll pa</td>\n",
       "      <td>0</td>\n",
       "      <td>0</td>\n",
       "      <td>Negative</td>\n",
       "      <td>1346976000</td>\n",
       "      <td>Not as Advertised</td>\n",
       "      <td>Product arrived labeled as Jumbo Salted Peanut...</td>\n",
       "    </tr>\n",
       "    <tr>\n",
       "      <th>2</th>\n",
       "      <td>3</td>\n",
       "      <td>B000LQOCH0</td>\n",
       "      <td>ABXLMWJIXXAIN</td>\n",
       "      <td>Natalia Corres \"Natalia Corres\"</td>\n",
       "      <td>1</td>\n",
       "      <td>1</td>\n",
       "      <td>Positive</td>\n",
       "      <td>1219017600</td>\n",
       "      <td>\"Delight\" says it all</td>\n",
       "      <td>This is a confection that has been around a fe...</td>\n",
       "    </tr>\n",
       "    <tr>\n",
       "      <th>3</th>\n",
       "      <td>4</td>\n",
       "      <td>B000UA0QIQ</td>\n",
       "      <td>A395BORC6FGVXV</td>\n",
       "      <td>Karl</td>\n",
       "      <td>3</td>\n",
       "      <td>3</td>\n",
       "      <td>Negative</td>\n",
       "      <td>1307923200</td>\n",
       "      <td>Cough Medicine</td>\n",
       "      <td>If you are looking for the secret ingredient i...</td>\n",
       "    </tr>\n",
       "    <tr>\n",
       "      <th>4</th>\n",
       "      <td>5</td>\n",
       "      <td>B006K2ZZ7K</td>\n",
       "      <td>A1UQRSCLF8GW1T</td>\n",
       "      <td>Michael D. Bigham \"M. Wassir\"</td>\n",
       "      <td>0</td>\n",
       "      <td>0</td>\n",
       "      <td>Positive</td>\n",
       "      <td>1350777600</td>\n",
       "      <td>Great taffy</td>\n",
       "      <td>Great taffy at a great price.  There was a wid...</td>\n",
       "    </tr>\n",
       "  </tbody>\n",
       "</table>\n",
       "</div>"
      ],
      "text/plain": [
       "   Id   ProductId          UserId                      ProfileName  \\\n",
       "0   1  B001E4KFG0  A3SGXH7AUHU8GW                       delmartian   \n",
       "1   2  B00813GRG4  A1D87F6ZCVE5NK                           dll pa   \n",
       "2   3  B000LQOCH0   ABXLMWJIXXAIN  Natalia Corres \"Natalia Corres\"   \n",
       "3   4  B000UA0QIQ  A395BORC6FGVXV                             Karl   \n",
       "4   5  B006K2ZZ7K  A1UQRSCLF8GW1T    Michael D. Bigham \"M. Wassir\"   \n",
       "\n",
       "   HelpfulnessNumerator  HelpfulnessDenominator     Score        Time  \\\n",
       "0                     1                       1  Positive  1303862400   \n",
       "1                     0                       0  Negative  1346976000   \n",
       "2                     1                       1  Positive  1219017600   \n",
       "3                     3                       3  Negative  1307923200   \n",
       "4                     0                       0  Positive  1350777600   \n",
       "\n",
       "                 Summary                                               Text  \n",
       "0  Good Quality Dog Food  I have bought several of the Vitality canned d...  \n",
       "1      Not as Advertised  Product arrived labeled as Jumbo Salted Peanut...  \n",
       "2  \"Delight\" says it all  This is a confection that has been around a fe...  \n",
       "3         Cough Medicine  If you are looking for the secret ingredient i...  \n",
       "4            Great taffy  Great taffy at a great price.  There was a wid...  "
      ]
     },
     "execution_count": 22,
     "metadata": {},
     "output_type": "execute_result"
    }
   ],
   "source": [
    "#lets consider every review having score greater than 3 as positive\n",
    "# and less than 3 as negative \n",
    "amazon_df['Score'] = amazon_df.Score.apply(lambda x: 'Positive' if x>3 else 'Negative')\n",
    "\n",
    "# seeing the first 5 rows of amazon_df dataframe\n",
    "amazon_df.head()"
   ]
  },
  {
   "cell_type": "code",
   "execution_count": 24,
   "metadata": {},
   "outputs": [
    {
     "data": {
      "text/plain": [
       "array(['Positive', 'Negative'], dtype=object)"
      ]
     },
     "execution_count": 24,
     "metadata": {},
     "output_type": "execute_result"
    }
   ],
   "source": [
    "amazon_df.Score.unique()"
   ]
  },
  {
   "cell_type": "code",
   "execution_count": 20,
   "metadata": {},
   "outputs": [
    {
     "name": "stdout",
     "output_type": "stream",
     "text": [
      "size of our data is (525814, 10)\n",
      "\n",
      "<class 'pandas.core.frame.DataFrame'>\n",
      "RangeIndex: 525814 entries, 0 to 525813\n",
      "Data columns (total 10 columns):\n",
      "Id                        525814 non-null int64\n",
      "ProductId                 525814 non-null object\n",
      "UserId                    525814 non-null object\n",
      "ProfileName               525814 non-null object\n",
      "HelpfulnessNumerator      525814 non-null int64\n",
      "HelpfulnessDenominator    525814 non-null int64\n",
      "Score                     525814 non-null object\n",
      "Time                      525814 non-null int64\n",
      "Summary                   525814 non-null object\n",
      "Text                      525814 non-null object\n",
      "dtypes: int64(4), object(6)\n",
      "memory usage: 40.1+ MB\n"
     ]
    }
   ],
   "source": [
    "print(\"size of our data is\", amazon_df.shape)\n",
    "print(\"\")\n",
    "amazon_df.info()"
   ]
  },
  {
   "cell_type": "markdown",
   "metadata": {},
   "source": [
    "We can see that we have total 525814 data points with 10 features\n",
    "\n",
    "Score Feature contains two values, either Positive or Negative and it is our target variable"
   ]
  },
  {
   "cell_type": "markdown",
   "metadata": {},
   "source": [
    "#  [2] Exploratory Data Analysis"
   ]
  },
  {
   "cell_type": "markdown",
   "metadata": {},
   "source": [
    "## [2.1] Data Cleaning: Deduplication\n",
    "\n",
    "Lets see whether any duplicate observations are there in the data and delete them, so that we get unbiased results for the analysis of the data"
   ]
  },
  {
   "cell_type": "code",
   "execution_count": 25,
   "metadata": {},
   "outputs": [
    {
     "data": {
      "text/plain": [
       "0"
      ]
     },
     "execution_count": 25,
     "metadata": {},
     "output_type": "execute_result"
    }
   ],
   "source": [
    "# lets sort the data based on the time\n",
    "amazon_df = amazon_df.sort_values('Time')\n",
    "\n",
    "#lets drop the duplicate datpoints\n",
    "amazon_df.duplicated().sum()"
   ]
  },
  {
   "cell_type": "markdown",
   "metadata": {},
   "source": [
    "from above we can see that there are no exact duplicate observations. \n",
    "<p>\n",
    "but lets see whether there are any observations having same duplicate features like Text, productId, and Time and UserId while having the remaining features same.\n",
    "</p>\n",
    "<p>\n",
    "Because there can't be any review with same Text and UserId with different productId and also no single User can post the same review(Text) at two different times.</p>\n",
    "So above subduplicates will also be considered as duplicates and we will delete them for further analysis"
   ]
  },
  {
   "cell_type": "code",
   "execution_count": 30,
   "metadata": {},
   "outputs": [
    {
     "name": "stdout",
     "output_type": "stream",
     "text": [
      "1242\n",
      "1130\n",
      "161681\n"
     ]
    }
   ],
   "source": [
    "print(amazon_df.duplicated(subset=['ProductId', 'Text']).sum())\n",
    "print(amazon_df.duplicated(subset=['ProductId', 'Time', 'Text']).sum())\n",
    "print(amazon_df.duplicated(subset=['UserId', 'Time', 'Text']).sum())"
   ]
  },
  {
   "cell_type": "markdown",
   "metadata": {},
   "source": [
    "From above we can see that there are duplicates with same ProductId, Text, UserId\n",
    "<p>\n",
    "Out of the obove 3 filters, there are 161681 observations with same UserId, Time, and Text which means that same user has posted same Text at same Time, which is unlikely to happen, so lets delete the above duplicates.\n",
    "</p>\n"
   ]
  },
  {
   "cell_type": "code",
   "execution_count": 31,
   "metadata": {},
   "outputs": [],
   "source": [
    "#so there are no exact duplicate rows\n",
    "#lets remove the datapoints having the same productId and Time and UserId\n",
    "amazon_df = amazon_df.drop_duplicates(subset=['ProductId','Time','UserId'])\n",
    "amazon_df = amazon_df.drop_duplicates(subset=['ProductId','Time','Text'])\n",
    "amazon_df = amazon_df.drop_duplicates(subset=['UserId','Time','Text'])"
   ]
  },
  {
   "cell_type": "code",
   "execution_count": 44,
   "metadata": {},
   "outputs": [
    {
     "data": {
      "text/plain": [
       "0"
      ]
     },
     "execution_count": 44,
     "metadata": {},
     "output_type": "execute_result"
    }
   ],
   "source": [
    "amazon_df.duplicated(subset=['UserId','Time','Text']).sum()"
   ]
  },
  {
   "cell_type": "markdown",
   "metadata": {},
   "source": [
    "Now lets see whether there are any observations which has helpfulness numerator feature greater than helpfulness denominator, and delete those observations"
   ]
  },
  {
   "cell_type": "code",
   "execution_count": 34,
   "metadata": {},
   "outputs": [
    {
     "data": {
      "text/html": [
       "<div>\n",
       "<style scoped>\n",
       "    .dataframe tbody tr th:only-of-type {\n",
       "        vertical-align: middle;\n",
       "    }\n",
       "\n",
       "    .dataframe tbody tr th {\n",
       "        vertical-align: top;\n",
       "    }\n",
       "\n",
       "    .dataframe thead th {\n",
       "        text-align: right;\n",
       "    }\n",
       "</style>\n",
       "<table border=\"1\" class=\"dataframe\">\n",
       "  <thead>\n",
       "    <tr style=\"text-align: right;\">\n",
       "      <th></th>\n",
       "      <th>Id</th>\n",
       "      <th>ProductId</th>\n",
       "      <th>UserId</th>\n",
       "      <th>ProfileName</th>\n",
       "      <th>HelpfulnessNumerator</th>\n",
       "      <th>HelpfulnessDenominator</th>\n",
       "      <th>Score</th>\n",
       "      <th>Time</th>\n",
       "      <th>Summary</th>\n",
       "      <th>Text</th>\n",
       "    </tr>\n",
       "  </thead>\n",
       "  <tbody>\n",
       "    <tr>\n",
       "      <th>41159</th>\n",
       "      <td>44737</td>\n",
       "      <td>B001EQ55RW</td>\n",
       "      <td>A2V0I904FH7ABY</td>\n",
       "      <td>Ram</td>\n",
       "      <td>3</td>\n",
       "      <td>2</td>\n",
       "      <td>Positive</td>\n",
       "      <td>1212883200</td>\n",
       "      <td>Pure cocoa taste with crunchy almonds inside</td>\n",
       "      <td>It was almost a 'love at first bite' - the per...</td>\n",
       "    </tr>\n",
       "    <tr>\n",
       "      <th>59301</th>\n",
       "      <td>64422</td>\n",
       "      <td>B000MIDROQ</td>\n",
       "      <td>A161DK06JJMCYF</td>\n",
       "      <td>J. E. Stephens \"Jeanne\"</td>\n",
       "      <td>3</td>\n",
       "      <td>1</td>\n",
       "      <td>Positive</td>\n",
       "      <td>1224892800</td>\n",
       "      <td>Bought This for My Son at College</td>\n",
       "      <td>My son loves spaghetti so I didn't hesitate or...</td>\n",
       "    </tr>\n",
       "  </tbody>\n",
       "</table>\n",
       "</div>"
      ],
      "text/plain": [
       "          Id   ProductId          UserId              ProfileName  \\\n",
       "41159  44737  B001EQ55RW  A2V0I904FH7ABY                      Ram   \n",
       "59301  64422  B000MIDROQ  A161DK06JJMCYF  J. E. Stephens \"Jeanne\"   \n",
       "\n",
       "       HelpfulnessNumerator  HelpfulnessDenominator     Score        Time  \\\n",
       "41159                     3                       2  Positive  1212883200   \n",
       "59301                     3                       1  Positive  1224892800   \n",
       "\n",
       "                                            Summary  \\\n",
       "41159  Pure cocoa taste with crunchy almonds inside   \n",
       "59301             Bought This for My Son at College   \n",
       "\n",
       "                                                    Text  \n",
       "41159  It was almost a 'love at first bite' - the per...  \n",
       "59301  My son loves spaghetti so I didn't hesitate or...  "
      ]
     },
     "execution_count": 34,
     "metadata": {},
     "output_type": "execute_result"
    }
   ],
   "source": [
    "amazon_df.query('HelpfulnessNumerator>HelpfulnessDenominator')"
   ]
  },
  {
   "cell_type": "code",
   "execution_count": 43,
   "metadata": {},
   "outputs": [],
   "source": [
    "# so lets remove the above two observations\n",
    "num_great = amazon_df.query('HelpfulnessNumerator>HelpfulnessDenominator')\n",
    "amazon_df = amazon_df.drop(num_great.index)"
   ]
  },
  {
   "cell_type": "code",
   "execution_count": 45,
   "metadata": {},
   "outputs": [
    {
     "data": {
      "text/html": [
       "<div>\n",
       "<style scoped>\n",
       "    .dataframe tbody tr th:only-of-type {\n",
       "        vertical-align: middle;\n",
       "    }\n",
       "\n",
       "    .dataframe tbody tr th {\n",
       "        vertical-align: top;\n",
       "    }\n",
       "\n",
       "    .dataframe thead th {\n",
       "        text-align: right;\n",
       "    }\n",
       "</style>\n",
       "<table border=\"1\" class=\"dataframe\">\n",
       "  <thead>\n",
       "    <tr style=\"text-align: right;\">\n",
       "      <th></th>\n",
       "      <th>Id</th>\n",
       "      <th>ProductId</th>\n",
       "      <th>UserId</th>\n",
       "      <th>ProfileName</th>\n",
       "      <th>HelpfulnessNumerator</th>\n",
       "      <th>HelpfulnessDenominator</th>\n",
       "      <th>Score</th>\n",
       "      <th>Time</th>\n",
       "      <th>Summary</th>\n",
       "      <th>Text</th>\n",
       "    </tr>\n",
       "  </thead>\n",
       "  <tbody>\n",
       "  </tbody>\n",
       "</table>\n",
       "</div>"
      ],
      "text/plain": [
       "Empty DataFrame\n",
       "Columns: [Id, ProductId, UserId, ProfileName, HelpfulnessNumerator, HelpfulnessDenominator, Score, Time, Summary, Text]\n",
       "Index: []"
      ]
     },
     "execution_count": 45,
     "metadata": {},
     "output_type": "execute_result"
    }
   ],
   "source": [
    "amazon_df.query('HelpfulnessNumerator>HelpfulnessDenominator')"
   ]
  },
  {
   "cell_type": "code",
   "execution_count": 49,
   "metadata": {},
   "outputs": [
    {
     "name": "stdout",
     "output_type": "stream",
     "text": [
      "Id                                                                   233939\n",
      "ProductId                                                        B003E6COMO\n",
      "UserId                                                       A2ZE58VIDDCMR7\n",
      "ProfileName                                                            inna\n",
      "HelpfulnessNumerator                                                      1\n",
      "HelpfulnessDenominator                                                    2\n",
      "Score                                                              Positive\n",
      "Time                                                             1350000000\n",
      "Summary                   &#1091;&#1076;&#1086;&#1073;&#1085;&#1072;&#11...\n",
      "Text                      &#1056;&#1077;&#1096;&#1080;&#1083;&#1072; &#1...\n",
      "Name: 215861, dtype: object\n"
     ]
    },
    {
     "data": {
      "text/plain": [
       "'&#1056;&#1077;&#1096;&#1080;&#1083;&#1072; &#1079;&#1072;&#1082;&#1072;&#1079;&#1072;&#1090;&#1100; &#1101;&#1090;&#1080; &#1078;&#1077;&#1083;&#1072;&#1090;&#1080;&#1085;&#1082;&#1080;, &#1090;.&#1082;. &#1076;&#1086;&#1095;&#1082;&#1072; &#1087;&#1086;&#1096;&#1083;&#1072; &#1074; &#1096;&#1082;&#1086;&#1083;&#1091; &#1080; &#1090;&#1088;&#1077;&#1073;&#1091;&#1077;&#1090; &#1089;&#1083;&#1072;&#1076;&#1086;&#1089;&#1090;&#1080;. &#1054;&#1095;&#1077;&#1085;&#1100; &#1091;&#1076;&#1086;&#1073;&#1085;&#1072;&#1103; &#1091;&#1087;&#1072;&#1082;&#1086;&#1074;&#1082;&#1072;. &#1050;&#1072;&#1082; &#1088;&#1072;&#1079; &#1089;&#1090;&#1086;&#1083;&#1100;&#1082;&#1086; &#1082;&#1086;&#1085;&#1092;&#1077;&#1090;, &#1082;&#1072;&#1082; &#1080; &#1090;&#1088;&#1077;&#1073;&#1091;&#1077;&#1090;&#1089;&#1103;, &#1095;&#1090;&#1086;&#1073;&#1099; &#1089;&#1100;&#1077;&#1089;&#1090;&#1100; &#1080;&#1093; &#1079;&#1072; &#1087;&#1077;&#1088;&#1077;&#1084;&#1077;&#1085;&#1091;.'"
      ]
     },
     "execution_count": 49,
     "metadata": {},
     "output_type": "execute_result"
    }
   ],
   "source": [
    "print(amazon_df.loc[215861])\n",
    "amazon_df.loc[215861]['Text']"
   ]
  },
  {
   "cell_type": "code",
   "execution_count": 50,
   "metadata": {},
   "outputs": [],
   "source": [
    "# As we can say from above that 215861 indexed row has invalid text and summary, lets drop that row also\n",
    "amzon_df = amazon_df.drop(215861)"
   ]
  },
  {
   "cell_type": "code",
   "execution_count": 51,
   "metadata": {},
   "outputs": [
    {
     "name": "stdout",
     "output_type": "stream",
     "text": [
      "so we are left with 363960 observations and 10 features\n"
     ]
    }
   ],
   "source": [
    "print(\"so we are left with {} observations and {} features\".format(amazon_df.shape[0], amazon_df.shape[1]))"
   ]
  },
  {
   "cell_type": "markdown",
   "metadata": {},
   "source": [
    "#  [3] Preprocessing"
   ]
  },
  {
   "cell_type": "markdown",
   "metadata": {},
   "source": [
    "## [3.1].  Preprocessing Review Text\n",
    "\n",
    "Now that we have finished deduplication our data requires some preprocessing before we go on further with analysis and making the prediction model.\n",
    "\n",
    "Hence in the Preprocessing phase we do the following in the order below:-\n",
    "\n",
    "1. Begin by removing the html tags\n",
    "2. Remove any punctuations or limited set of special characters like , or . or # etc.\n",
    "3. Check if the word is made up of english letters and is not alpha-numeric\n",
    "4. Check to see if the length of the word is greater than 2 (as it was researched that there is no adjective in 2-letters)\n",
    "5. Convert the word to lowercase\n",
    "6. Remove Stopwords\n",
    "7. Finally Snowball Stemming the word (it was obsereved to be better than Porter Stemming)"
   ]
  },
  {
   "cell_type": "code",
   "execution_count": 82,
   "metadata": {},
   "outputs": [
    {
     "name": "stdout",
     "output_type": "stream",
     "text": [
      "Long live Camper Van Beethoven!! This is a blessing for long time CVB fans who didn't have a chance to upgrade their collection to CD before most of this went out of print.  Wow, where to begin?  CVB was a band that matured on record, so to speak, so this is really a fascinating and entertaining listen from beginning to end.<br />  Of course you get the endearing and humorous debut album with goofy anthems ala \"Take the Skinheads Bowling\" and various folk/ska instrumentals; the increasingly warped and psychedelic \"II & III\"; and this collections' centerpiece: the self titled 3rd album!!  Forget the editorial remark above about them \"scratching their heads out loud\" on this because there's nothing confused, unfocused, or tentative about this album.  I'd say it's a characteristically irreverent and eclectic psych-rock masterpiece.  The song writing has fully matured with the sarcastic humor still intact, and it seems to be intentionally conceived as an album that gets stranger and stranger as it goes on, with the group mastering every diverse style they apply themselves to.  I could go on and on about this album, but suffice it to say it's a classic.<br />  \"Camper Vantiquities\", the 4th CD is a top notch odds and ends collection containing perhaps the best Camper song ever: \"Seven Languages\" and the Harrison/Starkey composition \"Photograph.\"  Finally, the live CD is a competent but not revelatory live set from 1990 with 2 songs from 1988.  I would've prefered to hear an earlier and more chaotic live recording, but I'm sure the quality wouldn't have been as good.<br />  All in all, you can't go wrong with this.  The packaging is quality: a thick , bright orange box with the 5 Cds in simple glossy slip cases, (well, the box is relatively thin but it's made of nice thick cardboard) and a full color booklet with 2 essays.  One is an entertaining first-hand account of what Santa Cruz was like when Camper formed; the other is a dry and factual journalists view on the Camper \"phenomenon\" MUCH LIKE THIS REVIEW.  I hope it was helpful.  Rock on Comrades!!!\n"
     ]
    }
   ],
   "source": [
    "for sent in amazon_df['Text'].values[50:52]:\n",
    "    if len(re.findall('<.*?>', sent)):\n",
    "        print(sent)"
   ]
  },
  {
   "cell_type": "markdown",
   "metadata": {},
   "source": [
    "So lets import the stop words and also write functions for removing and html tags, and punctuations"
   ]
  },
  {
   "cell_type": "code",
   "execution_count": 83,
   "metadata": {},
   "outputs": [],
   "source": [
    "stopw = set(stopwords.words('english'))\n",
    "snow = nltk.stem.SnowballStemmer('english')\n",
    "# lets remove words like not, very from stop words as they are meaninging in the reviews \n",
    "reqd_words = set(['only','very',\"doesn't\",'few','not'])\n",
    "stopw = stopw - reqd_words"
   ]
  },
  {
   "cell_type": "code",
   "execution_count": 85,
   "metadata": {},
   "outputs": [
    {
     "name": "stdout",
     "output_type": "stream",
     "text": [
      "{'d', 're', 'further', 'all', 'he', 'ours', \"weren't\", 'before', 'into', 'your', \"that'll\", \"you'd\", 'from', 'which', 'yours', 'it', 'other', 'here', 'same', \"she's\", 'theirs', 'their', \"wouldn't\", 'there', 'because', \"you'll\", 'how', 'too', 'ourselves', 'needn', 'myself', 'do', 'ain', 'most', 'those', 'of', 'these', 'are', 'just', 'me', 'some', 'during', \"hadn't\", 'were', 'won', 'her', 'after', 'should', 'wouldn', 'against', 'herself', \"you're\", 'on', 'for', 'hasn', 'my', 'what', 'yourselves', 'i', 'down', 'couldn', 'has', 'shan', 'hadn', 'under', 'and', 'such', 'isn', 'have', \"won't\", 'again', 'itself', 'by', \"shan't\", 've', 'being', 'mustn', 'o', 'to', \"mustn't\", 'up', \"isn't\", 'then', 'them', 'our', 'below', \"aren't\", 'above', 'an', 'his', 'had', 's', \"it's\", \"don't\", 'him', 'having', 'out', 'between', 'shouldn', 'why', 'did', 'until', 'own', \"you've\", 'she', 'you', 'a', 'the', 'with', 'can', 'at', 'through', 'any', 'didn', 'nor', 'y', 'about', 'that', 'now', 'in', 'so', 'll', 'is', 'yourself', 'been', 'no', 'once', 'don', 'ma', 'than', 'off', 'doing', 'aren', \"wasn't\", \"hasn't\", 'when', 'wasn', \"couldn't\", 'over', 'haven', 'does', 'they', 'as', 'both', 'if', 'm', 't', 'mightn', 'where', \"shouldn't\", 'or', 'more', 'who', 'themselves', 'whom', 'but', \"mightn't\", 'will', 'himself', 'we', \"didn't\", 'its', \"needn't\", 'be', \"haven't\", 'hers', 'doesn', 'weren', 'was', 'each', 'while', 'am', \"should've\", 'this'}\n",
      "****************************\n",
      "beauti\n"
     ]
    }
   ],
   "source": [
    "def clean_html(review):\n",
    "    '''This function cleans html tags if any\n",
    "    , in the review'''\n",
    "    \n",
    "    cleaner = re.compile('<.*?>')\n",
    "    clean_txt  = re.sub(cleaner, ' ', review)\n",
    "    return clean_txt\n",
    "\n",
    "def cleanpunc(sentence): \n",
    "    '''function to clean the word of any punctuation\n",
    "    or special characters'''\n",
    "    \n",
    "    cleaned = re.sub(r'[?|!|\\'|\"|#]',r'',sentence)\n",
    "    cleaned = re.sub(r'[.|,|)|(|\\|/]',r' ',cleaned)\n",
    "    return  cleaned\n",
    "print(stopw)\n",
    "print('****************************')\n",
    "print(snow.stem('beautiful'))"
   ]
  },
  {
   "cell_type": "markdown",
   "metadata": {},
   "source": [
    "To analyze the reviews and convert to vectors lets perform the following steps\n",
    "\n",
    "1. iterating through each of the review(# 1st loop)\n",
    "2. cleaning any html content of the review \n",
    "3. splitting individually all the words of the review into a list \n",
    "4. apply cleanpunc function on each word of the list so that we can remove if any punctiations are there\n",
    "5. checking whether the cleaned word is there in the stop words\n",
    "6. add the word to the new list if the cleaned word is not the stop words, and it is alphabetic and length is greater than 2\n",
    "7. Separately store all the positve words and negative words in two separate lists\n",
    "8. now make whole new list into a string\n",
    "9. the new string is the processed review"
   ]
  },
  {
   "cell_type": "code",
   "execution_count": 87,
   "metadata": {},
   "outputs": [
    {
     "name": "stdout",
     "output_type": "stream",
     "text": [
      "time took is  813.6039762496948\n"
     ]
    }
   ],
   "source": [
    "final_cleaned_reviews = []\n",
    "all_positive_words = []\n",
    "all_negative_words = []\n",
    "start_time = time.time()\n",
    "for i,review in enumerate(amazon_df['Text'].values):\n",
    "    review_filtered_words = []\n",
    "    html_free = clean_html(review)\n",
    "    for h_free_word in html_free.split():\n",
    "        for clean_word in cleanpunc(h_free_word).split():\n",
    "            if (((clean_word.isalpha()) & (len(clean_word)>2)) & \\\n",
    "                ((clean_word.lower() not in stopw))):\n",
    "                final_word = snow.stem(clean_word.lower())\n",
    "                review_filtered_words.append(final_word)\n",
    "                if amazon_df['Score'].values[i] == 'Positive':\n",
    "                    all_positive_words.append(final_word)\n",
    "                else:\n",
    "                    all_negative_words.append(final_word)\n",
    "    final_str = \" \".join(review_filtered_words)\n",
    "    final_cleaned_reviews.append(final_str)\n",
    "end_time = time.time()\n",
    "print('time took is ', (end_time-start_time))"
   ]
  },
  {
   "cell_type": "code",
   "execution_count": 88,
   "metadata": {},
   "outputs": [
    {
     "name": "stdout",
     "output_type": "stream",
     "text": [
      "Wall time: 93.7 ms\n"
     ]
    }
   ],
   "source": [
    "%%time\n",
    "# adding the cleaned reviews to dataframe\n",
    "amazon_df['CleanedText']=final_cleaned_reviews"
   ]
  },
  {
   "cell_type": "code",
   "execution_count": 89,
   "metadata": {},
   "outputs": [
    {
     "data": {
      "text/plain": [
       "(363960, 11)"
      ]
     },
     "execution_count": 89,
     "metadata": {},
     "output_type": "execute_result"
    }
   ],
   "source": [
    "amazon_df.shape"
   ]
  },
  {
   "cell_type": "code",
   "execution_count": 97,
   "metadata": {},
   "outputs": [
    {
     "name": "stdout",
     "output_type": "stream",
     "text": [
      "Positive    0.843164\n",
      "Negative    0.156836\n",
      "Name: Score, dtype: float64\n"
     ]
    },
    {
     "data": {
      "image/png": "[encoded data removed]",
      "text/plain": [
       "<Figure size 432x288 with 1 Axes>"
      ]
     },
     "metadata": {
      "needs_background": "light"
     },
     "output_type": "display_data"
    }
   ],
   "source": [
    "print(amazon_df.Score.value_counts(normalize=True))\n",
    "sns.countplot(amazon_df.Score);"
   ]
  },
  {
   "cell_type": "markdown",
   "metadata": {},
   "source": [
    "we can see that there are 84.31 percent positive reviews and 15.68 percent negative reviews, \n",
    "<br>\n",
    "So the amazon fine food reviews dataset is higly imbalanced with postive reviews"
   ]
  },
  {
   "cell_type": "code",
   "execution_count": 184,
   "metadata": {},
   "outputs": [],
   "source": [
    "# Now lets split the dataset into train, validation and test dataset\n",
    "train_df = amazon_df[:30000]\n",
    "cv_df = amazon_df[30000:40000]\n",
    "test_df = amazon_df[40000:50000]"
   ]
  },
  {
   "cell_type": "code",
   "execution_count": 185,
   "metadata": {},
   "outputs": [
    {
     "data": {
      "text/plain": [
       "((30000, 11), (10000, 11), (10000, 11))"
      ]
     },
     "execution_count": 185,
     "metadata": {},
     "output_type": "execute_result"
    }
   ],
   "source": [
    "train_df.shape, test_df.shape, cv_df.shape"
   ]
  },
  {
   "cell_type": "markdown",
   "metadata": {},
   "source": [
    "# [4] Featurization"
   ]
  },
  {
   "cell_type": "markdown",
   "metadata": {},
   "source": [
    "## [4.1] BAG OF WORDS"
   ]
  },
  {
   "cell_type": "markdown",
   "metadata": {},
   "source": [
    "### converting data into vectors using BOW"
   ]
  },
  {
   "cell_type": "code",
   "execution_count": 188,
   "metadata": {},
   "outputs": [],
   "source": [
    "count_vect = CountVectorizer(min_df=50, max_features=1500)\n",
    "unigram_xtrain_vect = count_vect.\\\n",
    "fit_transform(train_df.CleanedText)\n",
    "\n",
    "unigram_xtest_vect = count_vect.transform(test_df.CleanedText)\n",
    "\n",
    "unigram_xcv_vect = count_vect.transform(cv_df.CleanedText)"
   ]
  },
  {
   "cell_type": "code",
   "execution_count": 189,
   "metadata": {},
   "outputs": [
    {
     "name": "stdout",
     "output_type": "stream",
     "text": [
      "(30000, 1500) (10000, 1500) (10000, 1500)\n"
     ]
    }
   ],
   "source": [
    "print(unigram_xtrain_vect.shape, unigram_xcv_vect.shape, unigram_xtest_vect.shape)"
   ]
  },
  {
   "cell_type": "code",
   "execution_count": 196,
   "metadata": {},
   "outputs": [],
   "source": [
    "def mnb_model(x_train, y_train, x_cv, y_cv, x_test, y_test, algo,step):\n",
    "    '''this function uses the validation dataset to find the optimal k \n",
    "    and uses the optimal k and trained algorithm to predict the test data'''\n",
    "    \n",
    "    ##finding the optimal k using validation dataset\n",
    "    print('------------------------------------------------------------')\n",
    "    print('started finding the optimal alpha for KNearest neighbours')\n",
    "    alpha_values = list(np.logspace(np.log(0.005), np.log(1), base = np.exp(1), num = 50))\n",
    "    auc = []\n",
    "    best_cv_predict = 0\n",
    "    for a in alpha_values:\n",
    "        mnb = MultinomialNB(alpha=a)\n",
    "        mnb.fit(x_train, y_train)\n",
    "        #cv_predict = knn.predict(x_cv)\n",
    "        #if you have enough ram run above code otherwise run below\n",
    "        predicted_labels = []\n",
    "        predicted_prob = []\n",
    "        for i in range(0, x_cv.shape[0], 499):\n",
    "            predicted_labels.extend(mnb.predict(x_cv[i:i+499]))\n",
    "            predicted_prob.extend(mnb.predict_proba(x_cv[i:i+499]))\n",
    "            \n",
    "        cv_predict = np.array(predicted_labels)\n",
    "        fpr, tpr, thresholds = metrics.roc_curve(y_cv, [x[1] for x in predicted_prob], pos_label='Positive')\n",
    "        auc_score = metrics.auc(fpr, tpr)\n",
    "        #acc_score = accuracy_score(y_cv, cv_predict)\n",
    "        auc.append(auc_score)\n",
    "        if auc_score >= max(auc):\n",
    "            best_cv_predict = cv_predict\n",
    "            print('as of now best auc is {} with accuracy of {}'.format(a, auc_score))\n",
    "        \n",
    "    plt.plot(alpha_values, auc);\n",
    "    plt.xticks(alpha_values);\n",
    "    plt.title('auc on validation dataset with different alpha');\n",
    "    plt.show()    \n",
    "    \n",
    "    optimal_alpha = alpha_values[auc.index(max(auc))]\n",
    "    print('neighbour which is giving highest accuracy {} on cross vadiation dataset is {}'.format(max(auc), optimal_alpha))\n",
    "    \n",
    "    #confusion matrix of this optimal neighbour on crossvalidation dataset\n",
    "    cv_cm = pd.crosstab(y_cv, best_cv_predict, rownames=[\"actual Score\"], colnames=[\"predicted Score\"], normalize=True)\n",
    "    sns.heatmap(cv_cm, annot=True, fmt=\".4f\")\n",
    "    plt.title('Confusion matrix on validation dataset with best parameters');\n",
    "    plt.show()\n",
    "    \n",
    "    print('precission recall and f score on best optimal k predicted data of validation dataset is')\n",
    "    print(classification_report(y_cv, best_cv_predict))\n",
    "    print('------------------------------------------------------------------------------')\n",
    "    \n",
    "    # trainning the algorithm on train data and testing on the test data\n",
    "    print('training the algoritm using train data and predicting on the test dataset')\n",
    "    x_train_valid = np.vstack((x_train, x_cv))\n",
    "    y_train_valid = np.hstack((y_train, y_cv))\n",
    "    mnb = MultinomialNB(alpha=optimal_alpha)\n",
    "    mnb.fit(x_train, y_train)\n",
    "    #test_predict = knn.predict(x_test)\n",
    "    \n",
    "    predicted_list = []\n",
    "    for i in range(0, x_test.shape[0], 499):\n",
    "        predicted_list.extend(mnb.predict(x_test[i:i+499]))\n",
    "            \n",
    "    test_predict = np.array(predicted_list)\n",
    "    \n",
    "    print('accuracy on test data is {}'.format(accuracy_score(y_test, test_predict)))\n",
    "    \n",
    "    #confusion matrix on test dataset\n",
    "    test_cm = pd.crosstab(y_test, test_predict, rownames=[\"actual Score\"], colnames=[\"predicted Score\"], normalize=True)\n",
    "    sns.heatmap(test_cm, annot=True, fmt=\".4f\")\n",
    "    plt.title('Confusion matrix on test dataset with best parameters');\n",
    "    plt.show()\n",
    "    \n",
    "    print('precission recall and f score using best optimal k predicted data on test dataset is')\n",
    "    print(classification_report(y_test, test_predict))"
   ]
  },
  {
   "cell_type": "code",
   "execution_count": 197,
   "metadata": {},
   "outputs": [
    {
     "name": "stdout",
     "output_type": "stream",
     "text": [
      "------------------------------------------------------------\n",
      "started finding the optimal alpha for KNearest neighbours\n",
      "as of now best auc is 0.005000000000000004 with accuracy of 0.8835401559024734\n",
      "as of now best auc is 0.1032391184710002 with accuracy of 0.8835480137922458\n",
      "as of now best auc is 0.11502813631236229 with accuracy of 0.8835587335060711\n",
      "as of now best auc is 0.12816335841933904 with accuracy of 0.8835663973738739\n",
      "as of now best auc is 0.14279850972043126 with accuracy of 0.8835779416810704\n",
      "as of now best auc is 0.15910486920651076 with accuracy of 0.8835941425155395\n",
      "as of now best auc is 0.1772732744535007 with accuracy of 0.8836132536795539\n",
      "as of now best auc is 0.19751635504427542 with accuracy of 0.8836347901181896\n",
      "as of now best auc is 0.2200710210280988 with accuracy of 0.8836540467986811\n",
      "as of now best auc is 0.24520123554068976 with accuracy of 0.8836869335225435\n",
      "as of now best auc is 0.27320110403361203 with accuracy of 0.8837105071918608\n",
      "as of now best auc is 0.30439831626704256 with accuracy of 0.8837440729926171\n",
      "as of now best auc is 0.33915798134846 with accuracy of 0.8837948582431834\n",
      "as of now best auc is 0.3778869006997084 with accuracy of 0.8838303157581442\n",
      "as of now best auc is 0.4210383289600849 with accuracy of 0.8838740677123093\n",
      "as of now best auc is 0.4691172785435415 with accuracy of 0.883925823072724\n",
      "as of now best auc is 0.5226864299306151 with accuracy of 0.8839896563007519\n",
      "as of now best auc is 0.5823727168647758 with accuracy of 0.8840481054191209\n",
      "as of now best auc is 0.648874663521458 with accuracy of 0.8841109200318079\n",
      "as of now best auc is 0.7229705595185848 with accuracy of 0.8841889168636232\n",
      "as of now best auc is 0.8055275684428547 with accuracy of 0.8842591043111585\n",
      "as of now best auc is 0.8975118764912555 with accuracy of 0.8843407390549055\n",
      "as of now best auc is 1.0 with accuracy of 0.8844239744799023\n"
     ]
    },
    {
     "data": {
      "image/png": "[encoded data removed]",
      "text/plain": [
       "<Figure size 432x288 with 1 Axes>"
      ]
     },
     "metadata": {
      "needs_background": "light"
     },
     "output_type": "display_data"
    },
    {
     "name": "stdout",
     "output_type": "stream",
     "text": [
      "neighbour which is giving highest accuracy 0.8844239744799023 on cross vadiation dataset is 1.0\n"
     ]
    },
    {
     "data": {
      "image/png": "[encoded data removed]",
      "text/plain": [
       "<Figure size 432x288 with 2 Axes>"
      ]
     },
     "metadata": {
      "needs_background": "light"
     },
     "output_type": "display_data"
    },
    {
     "name": "stdout",
     "output_type": "stream",
     "text": [
      "precission recall and f score on best optimal k predicted data of validation dataset is\n",
      "              precision    recall  f1-score   support\n",
      "\n",
      "    Negative       0.55      0.61      0.58      1167\n",
      "    Positive       0.95      0.93      0.94      8833\n",
      "\n",
      "   micro avg       0.90      0.90      0.90     10000\n",
      "   macro avg       0.75      0.77      0.76     10000\n",
      "weighted avg       0.90      0.90      0.90     10000\n",
      "\n",
      "------------------------------------------------------------------------------\n",
      "training the algoritm using train data and predicting on the test dataset\n",
      "accuracy on test data is 0.8858\n"
     ]
    },
    {
     "data": {
      "image/png": "[encoded data removed]",
      "text/plain": [
       "<Figure size 432x288 with 2 Axes>"
      ]
     },
     "metadata": {
      "needs_background": "light"
     },
     "output_type": "display_data"
    },
    {
     "name": "stdout",
     "output_type": "stream",
     "text": [
      "precission recall and f score using best optimal k predicted data on test dataset is\n",
      "              precision    recall  f1-score   support\n",
      "\n",
      "    Negative       0.53      0.56      0.54      1215\n",
      "    Positive       0.94      0.93      0.93      8785\n",
      "\n",
      "   micro avg       0.89      0.89      0.89     10000\n",
      "   macro avg       0.73      0.74      0.74     10000\n",
      "weighted avg       0.89      0.89      0.89     10000\n",
      "\n",
      "Wall time: 13.1 s\n"
     ]
    }
   ],
   "source": [
    "%%time\n",
    "mnb_model(x_train=unigram_xtrain_vect, y_train=train_df.Score, x_cv=unigram_xcv_vect, y_cv=cv_df.Score, x_test=unigram_xtest_vect, y_test=test_df.Score, algo='brute', step=4)"
   ]
  }
 ],
 "metadata": {
  "kernelspec": {
   "display_name": "Python 3",
   "language": "python",
   "name": "python3"
  },
  "language_info": {
   "codemirror_mode": {
    "name": "ipython",
    "version": 3
   },
   "file_extension": ".py",
   "mimetype": "text/x-python",
   "name": "python",
   "nbconvert_exporter": "python",
   "pygments_lexer": "ipython3",
   "version": "3.7.1"
  }
 },
 "nbformat": 4,
 "nbformat_minor": 2
}
