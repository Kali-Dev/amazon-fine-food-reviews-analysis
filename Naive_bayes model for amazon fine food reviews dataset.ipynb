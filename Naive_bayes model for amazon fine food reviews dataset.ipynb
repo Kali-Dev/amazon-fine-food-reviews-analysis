{
 "cells": [
  {
   "cell_type": "markdown",
   "metadata": {},
   "source": [
    "# Objective: \n",
    "Analyze ~500,000 food reviews from Amazon, using natural language processing technique Bag of words and TFIDF, and Naive Bayes ML algorithm\n",
    "\n",
    "## data source: \n",
    "https://www.kaggle.com/snap/amazon-fine-food-reviews\n",
    "\n",
    "1. Number of reviews: 568,454\n",
    "2. Number of users: 256,059\n",
    "3. Number of products: 74,258\n",
    "4. Timespan: Oct 1999 - Oct 2012\n",
    "5. Number of Attributes/Columns in data: 10 \n",
    "6. Attribute Information:\n",
    "    1. Id\n",
    "    2. ProductId - unique identifier for the product\n",
    "    3. UserId - unqiue identifier for the user\n",
    "    4. ProfileName\n",
    "    5. HelpfulnessNumerator - number of users who found the review helpful\n",
    "    6. HelpfulnessDenominator - number of users who indicated whether they found the review helpful or not\n",
    "    7. Score - rating between 1 and 5\n",
    "    8. Time - timestamp for the review\n",
    "    9. Summary - brief summary of the review\n",
    "    10. Text - text of the review\n",
    "Given a review, determine whether the review is positive (rating of 4 or 5) or negative (rating of 1 or 2).\n",
    "\n",
    "<br>\n",
    "[Q] How to determine if a review is positive or negative?<br>\n",
    "<br> \n",
    "[Ans] We could use Score/Rating. A rating of 4 or 5 can be cosnidered as a positive review. A rating of 1 or 2 can be considered as negative one. A review of rating 3 is considered nuetral and such reviews are ignored from our analysis. This is an approximate and proxy way of determining the polarity (positivity/negativity) of a review."
   ]
  },
  {
   "cell_type": "markdown",
   "metadata": {},
   "source": [
    "# [1]. Reading Data"
   ]
  },
  {
   "cell_type": "markdown",
   "metadata": {},
   "source": [
    "## [1.1] Loading the data\n",
    "\n",
    "The dataset is available in two forms\n",
    "1. .csv file\n",
    "2. SQLite Database\n",
    "\n",
    "In order to load the data, We have used the sqlite and pandas to read and analyse the data.\n",
    "<br> \n",
    "\n",
    "Here as we only want to get the global sentiment of the recommendations (positive or negative), we will purposefully ignore all Scores equal to 3. If the score is above 3, then the recommendation wil be set to \"positive\". Otherwise, it will be set to \"negative\"."
   ]
  },
  {
   "cell_type": "code",
   "execution_count": 51,
   "metadata": {},
   "outputs": [],
   "source": [
    "%matplotlib inline\n",
    "import warnings\n",
    "warnings.filterwarnings(\"ignore\")\n",
    "\n",
    "import numpy as np\n",
    "import pandas as pd\n",
    "import matplotlib.pyplot as plt\n",
    "import sqlite3 as sql\n",
    "import seaborn as sns\n",
    "import re\n",
    "from nltk.corpus import stopwords\n",
    "import nltk\n",
    "# nltk.download('stopwords')\n",
    "import time\n",
    "# import umap\n",
    "from sklearn.feature_extraction.text import CountVectorizer\n",
    "from sklearn.naive_bayes import MultinomialNB\n",
    "from sklearn.metrics import accuracy_score\n",
    "from sklearn.metrics import classification_report\n",
    "from sklearn.decomposition import TruncatedSVD\n",
    "from sklearn.feature_extraction.text import TfidfVectorizer\n",
    "from sklearn import metrics\n",
    "import scikitplot as skplt\n",
    "import gensim\n",
    "from datetime import timedelta\n",
    "import os"
   ]
  },
  {
   "cell_type": "code",
   "execution_count": 12,
   "metadata": {},
   "outputs": [],
   "source": [
    "os.chdir(\"data source/\")"
   ]
  },
  {
   "cell_type": "code",
   "execution_count": 13,
   "metadata": {},
   "outputs": [
    {
     "data": {
      "text/plain": [
       "'C:\\\\Users\\\\kali\\\\Desktop\\\\git\\\\amazon-fine-food-reviews-analysis\\\\data source'"
      ]
     },
     "execution_count": 13,
     "metadata": {},
     "output_type": "execute_result"
    }
   ],
   "source": [
    "os.getcwd()"
   ]
  },
  {
   "cell_type": "code",
   "execution_count": 14,
   "metadata": {},
   "outputs": [
    {
     "name": "stdout",
     "output_type": "stream",
     "text": [
      "size of our dataset is (525814, 10)\n"
     ]
    },
    {
     "data": {
      "text/html": [
       "<div>\n",
       "<style scoped>\n",
       "    .dataframe tbody tr th:only-of-type {\n",
       "        vertical-align: middle;\n",
       "    }\n",
       "\n",
       "    .dataframe tbody tr th {\n",
       "        vertical-align: top;\n",
       "    }\n",
       "\n",
       "    .dataframe thead th {\n",
       "        text-align: right;\n",
       "    }\n",
       "</style>\n",
       "<table border=\"1\" class=\"dataframe\">\n",
       "  <thead>\n",
       "    <tr style=\"text-align: right;\">\n",
       "      <th></th>\n",
       "      <th>Id</th>\n",
       "      <th>ProductId</th>\n",
       "      <th>UserId</th>\n",
       "      <th>ProfileName</th>\n",
       "      <th>HelpfulnessNumerator</th>\n",
       "      <th>HelpfulnessDenominator</th>\n",
       "      <th>Score</th>\n",
       "      <th>Time</th>\n",
       "      <th>Summary</th>\n",
       "      <th>Text</th>\n",
       "    </tr>\n",
       "  </thead>\n",
       "  <tbody>\n",
       "    <tr>\n",
       "      <th>0</th>\n",
       "      <td>1</td>\n",
       "      <td>B001E4KFG0</td>\n",
       "      <td>A3SGXH7AUHU8GW</td>\n",
       "      <td>delmartian</td>\n",
       "      <td>1</td>\n",
       "      <td>1</td>\n",
       "      <td>5</td>\n",
       "      <td>1303862400</td>\n",
       "      <td>Good Quality Dog Food</td>\n",
       "      <td>I have bought several of the Vitality canned d...</td>\n",
       "    </tr>\n",
       "    <tr>\n",
       "      <th>1</th>\n",
       "      <td>2</td>\n",
       "      <td>B00813GRG4</td>\n",
       "      <td>A1D87F6ZCVE5NK</td>\n",
       "      <td>dll pa</td>\n",
       "      <td>0</td>\n",
       "      <td>0</td>\n",
       "      <td>1</td>\n",
       "      <td>1346976000</td>\n",
       "      <td>Not as Advertised</td>\n",
       "      <td>Product arrived labeled as Jumbo Salted Peanut...</td>\n",
       "    </tr>\n",
       "    <tr>\n",
       "      <th>2</th>\n",
       "      <td>3</td>\n",
       "      <td>B000LQOCH0</td>\n",
       "      <td>ABXLMWJIXXAIN</td>\n",
       "      <td>Natalia Corres \"Natalia Corres\"</td>\n",
       "      <td>1</td>\n",
       "      <td>1</td>\n",
       "      <td>4</td>\n",
       "      <td>1219017600</td>\n",
       "      <td>\"Delight\" says it all</td>\n",
       "      <td>This is a confection that has been around a fe...</td>\n",
       "    </tr>\n",
       "    <tr>\n",
       "      <th>3</th>\n",
       "      <td>4</td>\n",
       "      <td>B000UA0QIQ</td>\n",
       "      <td>A395BORC6FGVXV</td>\n",
       "      <td>Karl</td>\n",
       "      <td>3</td>\n",
       "      <td>3</td>\n",
       "      <td>2</td>\n",
       "      <td>1307923200</td>\n",
       "      <td>Cough Medicine</td>\n",
       "      <td>If you are looking for the secret ingredient i...</td>\n",
       "    </tr>\n",
       "    <tr>\n",
       "      <th>4</th>\n",
       "      <td>5</td>\n",
       "      <td>B006K2ZZ7K</td>\n",
       "      <td>A1UQRSCLF8GW1T</td>\n",
       "      <td>Michael D. Bigham \"M. Wassir\"</td>\n",
       "      <td>0</td>\n",
       "      <td>0</td>\n",
       "      <td>5</td>\n",
       "      <td>1350777600</td>\n",
       "      <td>Great taffy</td>\n",
       "      <td>Great taffy at a great price.  There was a wid...</td>\n",
       "    </tr>\n",
       "  </tbody>\n",
       "</table>\n",
       "</div>"
      ],
      "text/plain": [
       "   Id   ProductId          UserId                      ProfileName  \\\n",
       "0   1  B001E4KFG0  A3SGXH7AUHU8GW                       delmartian   \n",
       "1   2  B00813GRG4  A1D87F6ZCVE5NK                           dll pa   \n",
       "2   3  B000LQOCH0   ABXLMWJIXXAIN  Natalia Corres \"Natalia Corres\"   \n",
       "3   4  B000UA0QIQ  A395BORC6FGVXV                             Karl   \n",
       "4   5  B006K2ZZ7K  A1UQRSCLF8GW1T    Michael D. Bigham \"M. Wassir\"   \n",
       "\n",
       "   HelpfulnessNumerator  HelpfulnessDenominator  Score        Time  \\\n",
       "0                     1                       1      5  1303862400   \n",
       "1                     0                       0      1  1346976000   \n",
       "2                     1                       1      4  1219017600   \n",
       "3                     3                       3      2  1307923200   \n",
       "4                     0                       0      5  1350777600   \n",
       "\n",
       "                 Summary                                               Text  \n",
       "0  Good Quality Dog Food  I have bought several of the Vitality canned d...  \n",
       "1      Not as Advertised  Product arrived labeled as Jumbo Salted Peanut...  \n",
       "2  \"Delight\" says it all  This is a confection that has been around a fe...  \n",
       "3         Cough Medicine  If you are looking for the secret ingredient i...  \n",
       "4            Great taffy  Great taffy at a great price.  There was a wid...  "
      ]
     },
     "execution_count": 14,
     "metadata": {},
     "output_type": "execute_result"
    }
   ],
   "source": [
    "#establishing the sql connection\n",
    "amazon_df_con = sql.connect('database.sqlite')\n",
    "\n",
    "#reading the data from sql connection\n",
    "amazon_df = pd.read_sql(\"SELECT * FROM Reviews WHERE Score!= 3\", con=amazon_df_con)\n",
    "\n",
    "print(\"size of our dataset is\", amazon_df.shape)\n",
    "amazon_df.head()"
   ]
  },
  {
   "cell_type": "code",
   "execution_count": 15,
   "metadata": {},
   "outputs": [
    {
     "data": {
      "text/html": [
       "<div>\n",
       "<style scoped>\n",
       "    .dataframe tbody tr th:only-of-type {\n",
       "        vertical-align: middle;\n",
       "    }\n",
       "\n",
       "    .dataframe tbody tr th {\n",
       "        vertical-align: top;\n",
       "    }\n",
       "\n",
       "    .dataframe thead th {\n",
       "        text-align: right;\n",
       "    }\n",
       "</style>\n",
       "<table border=\"1\" class=\"dataframe\">\n",
       "  <thead>\n",
       "    <tr style=\"text-align: right;\">\n",
       "      <th></th>\n",
       "      <th>Id</th>\n",
       "      <th>ProductId</th>\n",
       "      <th>UserId</th>\n",
       "      <th>ProfileName</th>\n",
       "      <th>HelpfulnessNumerator</th>\n",
       "      <th>HelpfulnessDenominator</th>\n",
       "      <th>Score</th>\n",
       "      <th>Time</th>\n",
       "      <th>Summary</th>\n",
       "      <th>Text</th>\n",
       "    </tr>\n",
       "  </thead>\n",
       "  <tbody>\n",
       "    <tr>\n",
       "      <th>0</th>\n",
       "      <td>1</td>\n",
       "      <td>B001E4KFG0</td>\n",
       "      <td>A3SGXH7AUHU8GW</td>\n",
       "      <td>delmartian</td>\n",
       "      <td>1</td>\n",
       "      <td>1</td>\n",
       "      <td>Positive</td>\n",
       "      <td>1303862400</td>\n",
       "      <td>Good Quality Dog Food</td>\n",
       "      <td>I have bought several of the Vitality canned d...</td>\n",
       "    </tr>\n",
       "    <tr>\n",
       "      <th>1</th>\n",
       "      <td>2</td>\n",
       "      <td>B00813GRG4</td>\n",
       "      <td>A1D87F6ZCVE5NK</td>\n",
       "      <td>dll pa</td>\n",
       "      <td>0</td>\n",
       "      <td>0</td>\n",
       "      <td>Negative</td>\n",
       "      <td>1346976000</td>\n",
       "      <td>Not as Advertised</td>\n",
       "      <td>Product arrived labeled as Jumbo Salted Peanut...</td>\n",
       "    </tr>\n",
       "    <tr>\n",
       "      <th>2</th>\n",
       "      <td>3</td>\n",
       "      <td>B000LQOCH0</td>\n",
       "      <td>ABXLMWJIXXAIN</td>\n",
       "      <td>Natalia Corres \"Natalia Corres\"</td>\n",
       "      <td>1</td>\n",
       "      <td>1</td>\n",
       "      <td>Positive</td>\n",
       "      <td>1219017600</td>\n",
       "      <td>\"Delight\" says it all</td>\n",
       "      <td>This is a confection that has been around a fe...</td>\n",
       "    </tr>\n",
       "    <tr>\n",
       "      <th>3</th>\n",
       "      <td>4</td>\n",
       "      <td>B000UA0QIQ</td>\n",
       "      <td>A395BORC6FGVXV</td>\n",
       "      <td>Karl</td>\n",
       "      <td>3</td>\n",
       "      <td>3</td>\n",
       "      <td>Negative</td>\n",
       "      <td>1307923200</td>\n",
       "      <td>Cough Medicine</td>\n",
       "      <td>If you are looking for the secret ingredient i...</td>\n",
       "    </tr>\n",
       "    <tr>\n",
       "      <th>4</th>\n",
       "      <td>5</td>\n",
       "      <td>B006K2ZZ7K</td>\n",
       "      <td>A1UQRSCLF8GW1T</td>\n",
       "      <td>Michael D. Bigham \"M. Wassir\"</td>\n",
       "      <td>0</td>\n",
       "      <td>0</td>\n",
       "      <td>Positive</td>\n",
       "      <td>1350777600</td>\n",
       "      <td>Great taffy</td>\n",
       "      <td>Great taffy at a great price.  There was a wid...</td>\n",
       "    </tr>\n",
       "  </tbody>\n",
       "</table>\n",
       "</div>"
      ],
      "text/plain": [
       "   Id   ProductId          UserId                      ProfileName  \\\n",
       "0   1  B001E4KFG0  A3SGXH7AUHU8GW                       delmartian   \n",
       "1   2  B00813GRG4  A1D87F6ZCVE5NK                           dll pa   \n",
       "2   3  B000LQOCH0   ABXLMWJIXXAIN  Natalia Corres \"Natalia Corres\"   \n",
       "3   4  B000UA0QIQ  A395BORC6FGVXV                             Karl   \n",
       "4   5  B006K2ZZ7K  A1UQRSCLF8GW1T    Michael D. Bigham \"M. Wassir\"   \n",
       "\n",
       "   HelpfulnessNumerator  HelpfulnessDenominator     Score        Time  \\\n",
       "0                     1                       1  Positive  1303862400   \n",
       "1                     0                       0  Negative  1346976000   \n",
       "2                     1                       1  Positive  1219017600   \n",
       "3                     3                       3  Negative  1307923200   \n",
       "4                     0                       0  Positive  1350777600   \n",
       "\n",
       "                 Summary                                               Text  \n",
       "0  Good Quality Dog Food  I have bought several of the Vitality canned d...  \n",
       "1      Not as Advertised  Product arrived labeled as Jumbo Salted Peanut...  \n",
       "2  \"Delight\" says it all  This is a confection that has been around a fe...  \n",
       "3         Cough Medicine  If you are looking for the secret ingredient i...  \n",
       "4            Great taffy  Great taffy at a great price.  There was a wid...  "
      ]
     },
     "execution_count": 15,
     "metadata": {},
     "output_type": "execute_result"
    }
   ],
   "source": [
    "#lets consider every review having score greater than 3 as positive\n",
    "# and less than 3 as negative \n",
    "amazon_df['Score'] = amazon_df.Score.apply(lambda x: 'Positive' if x>3 else 'Negative')\n",
    "\n",
    "# seeing the first 5 rows of amazon_df dataframe\n",
    "amazon_df.head()"
   ]
  },
  {
   "cell_type": "code",
   "execution_count": 16,
   "metadata": {},
   "outputs": [
    {
     "data": {
      "text/plain": [
       "array(['Positive', 'Negative'], dtype=object)"
      ]
     },
     "execution_count": 16,
     "metadata": {},
     "output_type": "execute_result"
    }
   ],
   "source": [
    "amazon_df.Score.unique()"
   ]
  },
  {
   "cell_type": "code",
   "execution_count": 17,
   "metadata": {},
   "outputs": [
    {
     "name": "stdout",
     "output_type": "stream",
     "text": [
      "size of our data is (525814, 10)\n",
      "\n",
      "<class 'pandas.core.frame.DataFrame'>\n",
      "RangeIndex: 525814 entries, 0 to 525813\n",
      "Data columns (total 10 columns):\n",
      "Id                        525814 non-null int64\n",
      "ProductId                 525814 non-null object\n",
      "UserId                    525814 non-null object\n",
      "ProfileName               525814 non-null object\n",
      "HelpfulnessNumerator      525814 non-null int64\n",
      "HelpfulnessDenominator    525814 non-null int64\n",
      "Score                     525814 non-null object\n",
      "Time                      525814 non-null int64\n",
      "Summary                   525814 non-null object\n",
      "Text                      525814 non-null object\n",
      "dtypes: int64(4), object(6)\n",
      "memory usage: 40.1+ MB\n"
     ]
    }
   ],
   "source": [
    "print(\"size of our data is\", amazon_df.shape)\n",
    "print(\"\")\n",
    "amazon_df.info()"
   ]
  },
  {
   "cell_type": "markdown",
   "metadata": {},
   "source": [
    "We can see that we have total 525814 data points with 10 features\n",
    "\n",
    "Score Feature contains two values, either Positive or Negative and it is our target variable"
   ]
  },
  {
   "cell_type": "markdown",
   "metadata": {},
   "source": [
    "#  [2] Exploratory Data Analysis"
   ]
  },
  {
   "cell_type": "markdown",
   "metadata": {},
   "source": [
    "## [2.1] Data Cleaning: Deduplication\n",
    "\n",
    "Lets see whether any duplicate observations are there in the data and delete them, so that we get unbiased results for the analysis of the data"
   ]
  },
  {
   "cell_type": "code",
   "execution_count": 18,
   "metadata": {},
   "outputs": [
    {
     "data": {
      "text/plain": [
       "0"
      ]
     },
     "execution_count": 18,
     "metadata": {},
     "output_type": "execute_result"
    }
   ],
   "source": [
    "# lets sort the data based on the time\n",
    "amazon_df = amazon_df.sort_values('Time')\n",
    "\n",
    "#lets drop the duplicate datpoints\n",
    "amazon_df.duplicated().sum()"
   ]
  },
  {
   "cell_type": "markdown",
   "metadata": {},
   "source": [
    "from above we can see that there are no exact duplicate observations. \n",
    "<p>\n",
    "but lets see whether there are any observations having same duplicate features like Text, productId, and Time and UserId while having the remaining features different.\n",
    "</p>\n",
    "<p>\n",
    "Because there can't be any review with same Text and UserId with different productId and also no single User can post the same review(Text) at two different times.</p>\n",
    "So above subduplicates will also be considered as duplicates and we will delete them for further analysis"
   ]
  },
  {
   "cell_type": "code",
   "execution_count": 19,
   "metadata": {},
   "outputs": [
    {
     "name": "stdout",
     "output_type": "stream",
     "text": [
      "1242\n",
      "1130\n",
      "161681\n"
     ]
    }
   ],
   "source": [
    "print(amazon_df.duplicated(subset=['ProductId', 'Text']).sum())\n",
    "print(amazon_df.duplicated(subset=['ProductId', 'Time', 'Text']).sum())\n",
    "print(amazon_df.duplicated(subset=['UserId', 'Time', 'Text']).sum())"
   ]
  },
  {
   "cell_type": "markdown",
   "metadata": {},
   "source": [
    "From above we can see that there are duplicates with same ProductId, Text, UserId\n",
    "<p>\n",
    "Out of the obove 3 filters, there are 161681 observations with same UserId, Time, and Text which means that same user has posted same Text at same Time, which is unlikely to happen, so lets delete the above duplicates.\n",
    "</p>\n"
   ]
  },
  {
   "cell_type": "code",
   "execution_count": 20,
   "metadata": {},
   "outputs": [],
   "source": [
    "#so there are no exact duplicate rows\n",
    "#lets remove the datapoints having the same productId and Time and UserId\n",
    "amazon_df = amazon_df.drop_duplicates(subset=['ProductId','Time','UserId'])\n",
    "amazon_df = amazon_df.drop_duplicates(subset=['ProductId','Time','Text'])\n",
    "amazon_df = amazon_df.drop_duplicates(subset=['UserId','Time','Text'])"
   ]
  },
  {
   "cell_type": "code",
   "execution_count": 21,
   "metadata": {},
   "outputs": [
    {
     "data": {
      "text/plain": [
       "0"
      ]
     },
     "execution_count": 21,
     "metadata": {},
     "output_type": "execute_result"
    }
   ],
   "source": [
    "amazon_df.duplicated(subset=['UserId','Time','Text']).sum()"
   ]
  },
  {
   "cell_type": "markdown",
   "metadata": {},
   "source": [
    "Now lets see whether there are any observations which has helpfulness numerator feature greater than helpfulness denominator, and delete those observations"
   ]
  },
  {
   "cell_type": "code",
   "execution_count": 22,
   "metadata": {},
   "outputs": [
    {
     "data": {
      "text/html": [
       "<div>\n",
       "<style scoped>\n",
       "    .dataframe tbody tr th:only-of-type {\n",
       "        vertical-align: middle;\n",
       "    }\n",
       "\n",
       "    .dataframe tbody tr th {\n",
       "        vertical-align: top;\n",
       "    }\n",
       "\n",
       "    .dataframe thead th {\n",
       "        text-align: right;\n",
       "    }\n",
       "</style>\n",
       "<table border=\"1\" class=\"dataframe\">\n",
       "  <thead>\n",
       "    <tr style=\"text-align: right;\">\n",
       "      <th></th>\n",
       "      <th>Id</th>\n",
       "      <th>ProductId</th>\n",
       "      <th>UserId</th>\n",
       "      <th>ProfileName</th>\n",
       "      <th>HelpfulnessNumerator</th>\n",
       "      <th>HelpfulnessDenominator</th>\n",
       "      <th>Score</th>\n",
       "      <th>Time</th>\n",
       "      <th>Summary</th>\n",
       "      <th>Text</th>\n",
       "    </tr>\n",
       "  </thead>\n",
       "  <tbody>\n",
       "    <tr>\n",
       "      <th>41159</th>\n",
       "      <td>44737</td>\n",
       "      <td>B001EQ55RW</td>\n",
       "      <td>A2V0I904FH7ABY</td>\n",
       "      <td>Ram</td>\n",
       "      <td>3</td>\n",
       "      <td>2</td>\n",
       "      <td>Positive</td>\n",
       "      <td>1212883200</td>\n",
       "      <td>Pure cocoa taste with crunchy almonds inside</td>\n",
       "      <td>It was almost a 'love at first bite' - the per...</td>\n",
       "    </tr>\n",
       "    <tr>\n",
       "      <th>59301</th>\n",
       "      <td>64422</td>\n",
       "      <td>B000MIDROQ</td>\n",
       "      <td>A161DK06JJMCYF</td>\n",
       "      <td>J. E. Stephens \"Jeanne\"</td>\n",
       "      <td>3</td>\n",
       "      <td>1</td>\n",
       "      <td>Positive</td>\n",
       "      <td>1224892800</td>\n",
       "      <td>Bought This for My Son at College</td>\n",
       "      <td>My son loves spaghetti so I didn't hesitate or...</td>\n",
       "    </tr>\n",
       "  </tbody>\n",
       "</table>\n",
       "</div>"
      ],
      "text/plain": [
       "          Id   ProductId          UserId              ProfileName  \\\n",
       "41159  44737  B001EQ55RW  A2V0I904FH7ABY                      Ram   \n",
       "59301  64422  B000MIDROQ  A161DK06JJMCYF  J. E. Stephens \"Jeanne\"   \n",
       "\n",
       "       HelpfulnessNumerator  HelpfulnessDenominator     Score        Time  \\\n",
       "41159                     3                       2  Positive  1212883200   \n",
       "59301                     3                       1  Positive  1224892800   \n",
       "\n",
       "                                            Summary  \\\n",
       "41159  Pure cocoa taste with crunchy almonds inside   \n",
       "59301             Bought This for My Son at College   \n",
       "\n",
       "                                                    Text  \n",
       "41159  It was almost a 'love at first bite' - the per...  \n",
       "59301  My son loves spaghetti so I didn't hesitate or...  "
      ]
     },
     "execution_count": 22,
     "metadata": {},
     "output_type": "execute_result"
    }
   ],
   "source": [
    "amazon_df.query('HelpfulnessNumerator>HelpfulnessDenominator')"
   ]
  },
  {
   "cell_type": "code",
   "execution_count": 23,
   "metadata": {},
   "outputs": [],
   "source": [
    "# so lets remove the above two observations\n",
    "num_great = amazon_df.query('HelpfulnessNumerator>HelpfulnessDenominator')\n",
    "amazon_df = amazon_df.drop(num_great.index)"
   ]
  },
  {
   "cell_type": "code",
   "execution_count": 24,
   "metadata": {},
   "outputs": [
    {
     "data": {
      "text/html": [
       "<div>\n",
       "<style scoped>\n",
       "    .dataframe tbody tr th:only-of-type {\n",
       "        vertical-align: middle;\n",
       "    }\n",
       "\n",
       "    .dataframe tbody tr th {\n",
       "        vertical-align: top;\n",
       "    }\n",
       "\n",
       "    .dataframe thead th {\n",
       "        text-align: right;\n",
       "    }\n",
       "</style>\n",
       "<table border=\"1\" class=\"dataframe\">\n",
       "  <thead>\n",
       "    <tr style=\"text-align: right;\">\n",
       "      <th></th>\n",
       "      <th>Id</th>\n",
       "      <th>ProductId</th>\n",
       "      <th>UserId</th>\n",
       "      <th>ProfileName</th>\n",
       "      <th>HelpfulnessNumerator</th>\n",
       "      <th>HelpfulnessDenominator</th>\n",
       "      <th>Score</th>\n",
       "      <th>Time</th>\n",
       "      <th>Summary</th>\n",
       "      <th>Text</th>\n",
       "    </tr>\n",
       "  </thead>\n",
       "  <tbody>\n",
       "  </tbody>\n",
       "</table>\n",
       "</div>"
      ],
      "text/plain": [
       "Empty DataFrame\n",
       "Columns: [Id, ProductId, UserId, ProfileName, HelpfulnessNumerator, HelpfulnessDenominator, Score, Time, Summary, Text]\n",
       "Index: []"
      ]
     },
     "execution_count": 24,
     "metadata": {},
     "output_type": "execute_result"
    }
   ],
   "source": [
    "amazon_df.query('HelpfulnessNumerator>HelpfulnessDenominator')"
   ]
  },
  {
   "cell_type": "code",
   "execution_count": 25,
   "metadata": {},
   "outputs": [
    {
     "name": "stdout",
     "output_type": "stream",
     "text": [
      "Id                                                                   233939\n",
      "ProductId                                                        B003E6COMO\n",
      "UserId                                                       A2ZE58VIDDCMR7\n",
      "ProfileName                                                            inna\n",
      "HelpfulnessNumerator                                                      1\n",
      "HelpfulnessDenominator                                                    2\n",
      "Score                                                              Positive\n",
      "Time                                                             1350000000\n",
      "Summary                   &#1091;&#1076;&#1086;&#1073;&#1085;&#1072;&#11...\n",
      "Text                      &#1056;&#1077;&#1096;&#1080;&#1083;&#1072; &#1...\n",
      "Name: 215861, dtype: object\n"
     ]
    },
    {
     "data": {
      "text/plain": [
       "'&#1056;&#1077;&#1096;&#1080;&#1083;&#1072; &#1079;&#1072;&#1082;&#1072;&#1079;&#1072;&#1090;&#1100; &#1101;&#1090;&#1080; &#1078;&#1077;&#1083;&#1072;&#1090;&#1080;&#1085;&#1082;&#1080;, &#1090;.&#1082;. &#1076;&#1086;&#1095;&#1082;&#1072; &#1087;&#1086;&#1096;&#1083;&#1072; &#1074; &#1096;&#1082;&#1086;&#1083;&#1091; &#1080; &#1090;&#1088;&#1077;&#1073;&#1091;&#1077;&#1090; &#1089;&#1083;&#1072;&#1076;&#1086;&#1089;&#1090;&#1080;. &#1054;&#1095;&#1077;&#1085;&#1100; &#1091;&#1076;&#1086;&#1073;&#1085;&#1072;&#1103; &#1091;&#1087;&#1072;&#1082;&#1086;&#1074;&#1082;&#1072;. &#1050;&#1072;&#1082; &#1088;&#1072;&#1079; &#1089;&#1090;&#1086;&#1083;&#1100;&#1082;&#1086; &#1082;&#1086;&#1085;&#1092;&#1077;&#1090;, &#1082;&#1072;&#1082; &#1080; &#1090;&#1088;&#1077;&#1073;&#1091;&#1077;&#1090;&#1089;&#1103;, &#1095;&#1090;&#1086;&#1073;&#1099; &#1089;&#1100;&#1077;&#1089;&#1090;&#1100; &#1080;&#1093; &#1079;&#1072; &#1087;&#1077;&#1088;&#1077;&#1084;&#1077;&#1085;&#1091;.'"
      ]
     },
     "execution_count": 25,
     "metadata": {},
     "output_type": "execute_result"
    }
   ],
   "source": [
    "print(amazon_df.loc[215861])\n",
    "amazon_df.loc[215861]['Text']"
   ]
  },
  {
   "cell_type": "code",
   "execution_count": 26,
   "metadata": {},
   "outputs": [],
   "source": [
    "# As we can say from above that 215861 indexed row has invalid text and summary, lets drop that row also\n",
    "amzon_df = amazon_df.drop(215861)"
   ]
  },
  {
   "cell_type": "code",
   "execution_count": 27,
   "metadata": {},
   "outputs": [
    {
     "name": "stdout",
     "output_type": "stream",
     "text": [
      "so we are left with 363960 observations and 10 features\n"
     ]
    }
   ],
   "source": [
    "print(\"so we are left with {} observations and {} features\".format(amazon_df.shape[0], amazon_df.shape[1]))"
   ]
  },
  {
   "cell_type": "markdown",
   "metadata": {},
   "source": [
    "#  [3] Preprocessing"
   ]
  },
  {
   "cell_type": "markdown",
   "metadata": {},
   "source": [
    "## [3.1].  Preprocessing Review Text\n",
    "\n",
    "Now that we have finished deduplication our data requires some preprocessing before we go on further with analysis and making the prediction model.\n",
    "\n",
    "Hence in the Preprocessing phase we do the following in the order below:-\n",
    "\n",
    "1. Begin by removing the html tags\n",
    "2. Remove any punctuations or limited set of special characters like , or . or # etc.\n",
    "3. Check if the word is made up of english letters and is not alpha-numeric\n",
    "4. Check to see if the length of the word is greater than 2 (as it was researched that there is no adjective in 2-letters)\n",
    "5. Convert the word to lowercase\n",
    "6. Remove Stopwords\n",
    "7. Finally Snowball Stemming the word (it was obsereved to be better than Porter Stemming)"
   ]
  },
  {
   "cell_type": "code",
   "execution_count": 28,
   "metadata": {},
   "outputs": [
    {
     "name": "stdout",
     "output_type": "stream",
     "text": [
      "Long live Camper Van Beethoven!! This is a blessing for long time CVB fans who didn't have a chance to upgrade their collection to CD before most of this went out of print.  Wow, where to begin?  CVB was a band that matured on record, so to speak, so this is really a fascinating and entertaining listen from beginning to end.<br />  Of course you get the endearing and humorous debut album with goofy anthems ala \"Take the Skinheads Bowling\" and various folk/ska instrumentals; the increasingly warped and psychedelic \"II & III\"; and this collections' centerpiece: the self titled 3rd album!!  Forget the editorial remark above about them \"scratching their heads out loud\" on this because there's nothing confused, unfocused, or tentative about this album.  I'd say it's a characteristically irreverent and eclectic psych-rock masterpiece.  The song writing has fully matured with the sarcastic humor still intact, and it seems to be intentionally conceived as an album that gets stranger and stranger as it goes on, with the group mastering every diverse style they apply themselves to.  I could go on and on about this album, but suffice it to say it's a classic.<br />  \"Camper Vantiquities\", the 4th CD is a top notch odds and ends collection containing perhaps the best Camper song ever: \"Seven Languages\" and the Harrison/Starkey composition \"Photograph.\"  Finally, the live CD is a competent but not revelatory live set from 1990 with 2 songs from 1988.  I would've prefered to hear an earlier and more chaotic live recording, but I'm sure the quality wouldn't have been as good.<br />  All in all, you can't go wrong with this.  The packaging is quality: a thick , bright orange box with the 5 Cds in simple glossy slip cases, (well, the box is relatively thin but it's made of nice thick cardboard) and a full color booklet with 2 essays.  One is an entertaining first-hand account of what Santa Cruz was like when Camper formed; the other is a dry and factual journalists view on the Camper \"phenomenon\" MUCH LIKE THIS REVIEW.  I hope it was helpful.  Rock on Comrades!!!\n"
     ]
    }
   ],
   "source": [
    "for sent in amazon_df['Text'].values[50:52]:\n",
    "    if len(re.findall('<.*?>', sent)):\n",
    "        print(sent)"
   ]
  },
  {
   "cell_type": "markdown",
   "metadata": {},
   "source": [
    "So lets import the stop words and also write functions for removing and html tags, and punctuations"
   ]
  },
  {
   "cell_type": "code",
   "execution_count": 29,
   "metadata": {},
   "outputs": [],
   "source": [
    "stopw = set(stopwords.words('english'))\n",
    "snow = nltk.stem.SnowballStemmer('english')\n",
    "# lets remove words like not, very from stop words as they are meaninging in the reviews \n",
    "reqd_words = set(['only','very',\"doesn't\",'few','not'])\n",
    "stopw = stopw - reqd_words"
   ]
  },
  {
   "cell_type": "code",
   "execution_count": 30,
   "metadata": {},
   "outputs": [
    {
     "name": "stdout",
     "output_type": "stream",
     "text": [
      "{'of', \"you're\", 'their', \"hasn't\", 'a', 'ain', 'at', 'be', 'than', 'should', 'you', 'both', 'them', 'his', 'this', 'wasn', 'there', 'with', 'those', 'as', \"shouldn't\", 'in', \"weren't\", 'wouldn', 'her', 'couldn', 'nor', 'having', 'its', 'didn', 'through', 'had', 'that', 'mightn', 'during', 'myself', 'any', \"needn't\", 'these', 'he', 'were', \"mustn't\", 'yourselves', \"aren't\", \"isn't\", 'into', 'yours', 'who', \"you'd\", 'needn', 'been', \"you'll\", 'can', \"you've\", \"don't\", \"she's\", 'here', 'itself', 'yourself', 'they', 'our', 'shan', 'themselves', 't', 'she', 'below', 'don', \"wouldn't\", 'more', 'then', 'hasn', 'because', 's', 'shouldn', 'against', 'so', 'too', 'each', 'and', 'hers', 'before', \"it's\", 'by', 'until', 'over', 'an', 'once', \"couldn't\", 'from', 'other', 'above', 'was', 'all', 'are', 'if', 'isn', \"won't\", 'off', 'weren', 'does', 'hadn', 'for', 'mustn', \"shan't\", 'd', 'has', 'now', 'which', 'where', 'himself', 'your', 'herself', 'some', 'the', 'under', \"hadn't\", 'o', 'same', 'is', 'out', \"mightn't\", 'ma', 've', 'aren', 'ourselves', 'have', 'when', \"wasn't\", \"should've\", 'while', 'such', 'how', 'ours', 'no', 'him', 'being', 're', 'again', 'did', 'between', \"didn't\", 'why', 'we', 'it', 'what', 'on', 'own', 'most', 'whom', 'about', 'doing', 'won', 'do', 'up', 'haven', 'me', 'down', 'but', 'theirs', 'i', 'to', 'my', 'after', 'will', 'm', \"haven't\", 'am', 'further', 'y', 'just', 'll', 'or', \"that'll\", 'doesn'}\n",
      "****************************\n",
      "beauti\n"
     ]
    }
   ],
   "source": [
    "def clean_html(review):\n",
    "    '''This function cleans html tags if any\n",
    "    , in the review'''\n",
    "    \n",
    "    cleaner = re.compile('<.*?>')\n",
    "    clean_txt  = re.sub(cleaner, ' ', review)\n",
    "    return clean_txt\n",
    "\n",
    "def cleanpunc(sentence): \n",
    "    '''function to clean the word of any punctuation\n",
    "    or special characters'''\n",
    "    \n",
    "    cleaned = re.sub(r'[?|!|\\'|\"|#]',r'',sentence)\n",
    "    cleaned = re.sub(r'[.|,|)|(|\\|/]',r' ',cleaned)\n",
    "    return  cleaned\n",
    "print(stopw)\n",
    "print('****************************')\n",
    "print(snow.stem('beautiful'))"
   ]
  },
  {
   "cell_type": "markdown",
   "metadata": {},
   "source": [
    "To analyze the reviews and convert to vectors lets perform the following steps\n",
    "\n",
    "1. iterating through each of the review(# 1st loop)\n",
    "2. cleaning any html content of the review \n",
    "3. splitting individually all the words of the review into a list \n",
    "4. apply cleanpunc function on each word of the list so that we can remove if any punctiations are there\n",
    "5. checking whether the cleaned word is there in the stop words\n",
    "6. add the word to the new list if the cleaned word is not the stop words, and it is alphabetic and length is greater than 2\n",
    "7. Separately store all the positve words and negative words in two separate lists\n",
    "8. now make whole new list into a string\n",
    "9. the new string is the processed review"
   ]
  },
  {
   "cell_type": "code",
   "execution_count": 31,
   "metadata": {},
   "outputs": [
    {
     "name": "stdout",
     "output_type": "stream",
     "text": [
      "time took is  752.5657629966736\n"
     ]
    }
   ],
   "source": [
    "final_cleaned_reviews = []\n",
    "all_positive_words = []\n",
    "all_negative_words = []\n",
    "start_time = time.time()\n",
    "for i,review in enumerate(amazon_df['Text'].values):\n",
    "    review_filtered_words = []\n",
    "    html_free = clean_html(review)\n",
    "    for h_free_word in html_free.split():\n",
    "        for clean_word in cleanpunc(h_free_word).split():\n",
    "            if (((clean_word.isalpha()) & (len(clean_word)>2)) & \\\n",
    "                ((clean_word.lower() not in stopw))):\n",
    "                final_word = snow.stem(clean_word.lower())\n",
    "                review_filtered_words.append(final_word)\n",
    "                if amazon_df['Score'].values[i] == 'Positive':\n",
    "                    all_positive_words.append(final_word)\n",
    "                else:\n",
    "                    all_negative_words.append(final_word)\n",
    "    final_str = \" \".join(review_filtered_words)\n",
    "    final_cleaned_reviews.append(final_str)\n",
    "end_time = time.time()\n",
    "print('time took is ', (end_time-start_time))"
   ]
  },
  {
   "cell_type": "code",
   "execution_count": 32,
   "metadata": {},
   "outputs": [
    {
     "name": "stdout",
     "output_type": "stream",
     "text": [
      "Wall time: 1.4 s\n"
     ]
    }
   ],
   "source": [
    "%%time\n",
    "# adding the cleaned reviews to dataframe\n",
    "amazon_df['CleanedText']=final_cleaned_reviews"
   ]
  },
  {
   "cell_type": "code",
   "execution_count": 33,
   "metadata": {},
   "outputs": [
    {
     "data": {
      "text/plain": [
       "(363960, 11)"
      ]
     },
     "execution_count": 33,
     "metadata": {},
     "output_type": "execute_result"
    }
   ],
   "source": [
    "amazon_df.shape"
   ]
  },
  {
   "cell_type": "code",
   "execution_count": 146,
   "metadata": {},
   "outputs": [
    {
     "name": "stdout",
     "output_type": "stream",
     "text": [
      "Positive    0.843164\n",
      "Negative    0.156836\n",
      "Name: Score, dtype: float64\n"
     ]
    },
    {
     "data": {
      "image/png": "[encoded data removed]",
      "text/plain": [
       "<Figure size 432x288 with 1 Axes>"
      ]
     },
     "metadata": {
      "needs_background": "light"
     },
     "output_type": "display_data"
    }
   ],
   "source": [
    "print(amazon_df.Score.value_counts(normalize=True))\n",
    "sns.countplot(amazon_df.Score);"
   ]
  },
  {
   "cell_type": "markdown",
   "metadata": {},
   "source": [
    "we can see that there are 84.31 percent positive reviews and 15.68 percent negative reviews, \n",
    "<br>\n",
    "So the amazon fine food reviews dataset is higly imbalanced with postive reviews\n",
    "</br>\n",
    "#### Since the dataset is higly imbalanced accuracy is not a good performance metric</li>\n",
    "\n",
    "#### So we will use ROC AUC, confusion matrix, and precision recall and f1 scores for evaluation of our models</li>"
   ]
  },
  {
   "cell_type": "code",
   "execution_count": 101,
   "metadata": {},
   "outputs": [],
   "source": [
    "# Now lets split the dataset into train, validation and test dataset\n",
    "train_df = amazon_df[:120000]\n",
    "cv_df = amazon_df[120000:160000]\n",
    "test_df = amazon_df[160000:200000]"
   ]
  },
  {
   "cell_type": "code",
   "execution_count": 102,
   "metadata": {},
   "outputs": [
    {
     "data": {
      "text/plain": [
       "((120000, 11), (40000, 11), (40000, 11))"
      ]
     },
     "execution_count": 102,
     "metadata": {},
     "output_type": "execute_result"
    }
   ],
   "source": [
    "train_df.shape, test_df.shape, cv_df.shape"
   ]
  },
  {
   "cell_type": "markdown",
   "metadata": {},
   "source": [
    "# [4] Featurization"
   ]
  },
  {
   "cell_type": "markdown",
   "metadata": {},
   "source": [
    "## [4.1] BAG OF WORDS"
   ]
  },
  {
   "cell_type": "markdown",
   "metadata": {},
   "source": [
    "### converting text into vectors using BOW unigram"
   ]
  },
  {
   "cell_type": "code",
   "execution_count": 147,
   "metadata": {},
   "outputs": [],
   "source": [
    "count_vect = CountVectorizer(min_df=10, max_features=10000)\n",
    "unigram_xtrain_vect = count_vect.\\\n",
    "fit_transform(train_df.CleanedText)\n",
    "\n",
    "unigram_xtest_vect = count_vect.transform(test_df.CleanedText)\n",
    "\n",
    "unigram_xcv_vect = count_vect.transform(cv_df.CleanedText)"
   ]
  },
  {
   "cell_type": "code",
   "execution_count": 148,
   "metadata": {},
   "outputs": [
    {
     "name": "stdout",
     "output_type": "stream",
     "text": [
      "(120000, 9140) (40000, 9140) (40000, 9140)\n"
     ]
    }
   ],
   "source": [
    "print(unigram_xtrain_vect.shape, unigram_xcv_vect.shape, unigram_xtest_vect.shape)"
   ]
  },
  {
   "cell_type": "markdown",
   "metadata": {},
   "source": [
    "## [4.2] Bi-Grams"
   ]
  },
  {
   "cell_type": "markdown",
   "metadata": {},
   "source": [
    "### converting data into vectors using BOW bigram"
   ]
  },
  {
   "cell_type": "code",
   "execution_count": 149,
   "metadata": {},
   "outputs": [],
   "source": [
    "bigram_count_vect = CountVectorizer(ngram_range=(1,2), min_df=10, max_features=10000)\n",
    "bigram_xtrain_vect = bigram_count_vect.\\\n",
    "fit_transform(train_df.CleanedText)\n",
    "\n",
    "bigram_xtest_vect = bigram_count_vect.transform(test_df.CleanedText)\n",
    "\n",
    "bigram_xcv_vect = bigram_count_vect.transform(cv_df.CleanedText)"
   ]
  },
  {
   "cell_type": "code",
   "execution_count": 152,
   "metadata": {},
   "outputs": [
    {
     "data": {
      "text/plain": [
       "((120000, 10000), (40000, 10000), (40000, 10000))"
      ]
     },
     "execution_count": 152,
     "metadata": {},
     "output_type": "execute_result"
    }
   ],
   "source": [
    "bigram_xtrain_vect.shape, bigram_xcv_vect.shape, bigram_xtest_vect.shape"
   ]
  },
  {
   "cell_type": "markdown",
   "metadata": {},
   "source": [
    "## [4.3] Tri-Grams"
   ]
  },
  {
   "cell_type": "markdown",
   "metadata": {},
   "source": [
    "### converting data into vectors using BOW trigrams"
   ]
  },
  {
   "cell_type": "code",
   "execution_count": 151,
   "metadata": {},
   "outputs": [],
   "source": [
    "trigram_count_vect = CountVectorizer(ngram_range=(1,3), min_df=10, max_features=10000)\n",
    "trigram_xtrain_vect = trigram_count_vect.\\\n",
    "fit_transform(train_df.CleanedText)\n",
    "\n",
    "trigram_xtest_vect = trigram_count_vect.transform(test_df.CleanedText)\n",
    "\n",
    "trigram_xcv_vect = trigram_count_vect.transform(cv_df.CleanedText)"
   ]
  },
  {
   "cell_type": "code",
   "execution_count": 153,
   "metadata": {},
   "outputs": [
    {
     "data": {
      "text/plain": [
       "((120000, 10000), (40000, 10000), (40000, 10000))"
      ]
     },
     "execution_count": 153,
     "metadata": {},
     "output_type": "execute_result"
    }
   ],
   "source": [
    "trigram_xtrain_vect.shape, trigram_xcv_vect.shape, trigram_xtest_vect.shape"
   ]
  },
  {
   "cell_type": "markdown",
   "metadata": {},
   "source": [
    "## [4.4] TF-IDF"
   ]
  },
  {
   "cell_type": "markdown",
   "metadata": {},
   "source": [
    "### converting data into vectors using TF-IDF"
   ]
  },
  {
   "cell_type": "code",
   "execution_count": 154,
   "metadata": {},
   "outputs": [],
   "source": [
    "tfidf = TfidfVectorizer(ngram_range=(1,2), min_df=10, max_features=10000)\n",
    "tfidf_xtrain_vect = tfidf.\\\n",
    "fit_transform(train_df.CleanedText)\n",
    "\n",
    "tfidf_xtest_vect = tfidf.transform(test_df.CleanedText)\n",
    "\n",
    "tfidf_xcv_vect = tfidf.transform(cv_df.CleanedText)"
   ]
  },
  {
   "cell_type": "code",
   "execution_count": 155,
   "metadata": {},
   "outputs": [
    {
     "name": "stdout",
     "output_type": "stream",
     "text": [
      "(120000, 10000) (40000, 10000) (40000, 10000)\n"
     ]
    }
   ],
   "source": [
    "print(tfidf_xtrain_vect.shape, tfidf_xcv_vect.shape, tfidf_xtest_vect.shape)"
   ]
  },
  {
   "cell_type": "markdown",
   "metadata": {},
   "source": [
    "# Applying Multinomial Naive Bayes"
   ]
  },
  {
   "cell_type": "markdown",
   "metadata": {},
   "source": [
    "Lets write a function which does the following things using Multinomial Naive Bayes:\n",
    "<ol>\n",
    "    <li> find the optimal alpha using the train and validation dataset </li>\n",
    "    <li> Plotting the confusion matrix and precision recall f1 score on validation dataset</li>\n",
    "    <li> plot the ROC AUC curve using optimal alpha on validation dataset </li>\n",
    "    <li> Fit the Multinomial Naive Bayes on train dataset using optmial alpha\n",
    "        and Predict on test dataset</li> \n",
    "    <li> Plot the confusion matrix, precision recall values </li>\n",
    "    <li> Plot the ROC AUC curve on test dataset values</li>\n",
    "</ol>"
   ]
  },
  {
   "cell_type": "code",
   "execution_count": 158,
   "metadata": {},
   "outputs": [
    {
     "data": {
      "text/plain": [
       "array([-6.90775528, -0.7985077 , -0.0618754 ])"
      ]
     },
     "execution_count": 158,
     "metadata": {},
     "output_type": "execute_result"
    }
   ],
   "source": [
    "np.log([0.001,0.45,0.94])"
   ]
  },
  {
   "cell_type": "code",
   "execution_count": 188,
   "metadata": {},
   "outputs": [
    {
     "data": {
      "text/plain": [
       "[<matplotlib.lines.Line2D at 0x133844c64a8>]"
      ]
     },
     "execution_count": 188,
     "metadata": {},
     "output_type": "execute_result"
    },
    {
     "data": {
      "image/png": "[encoded data removed]",
      "text/plain": [
       "<Figure size 432x288 with 1 Axes>"
      ]
     },
     "metadata": {
      "needs_background": "light"
     },
     "output_type": "display_data"
    }
   ],
   "source": [
    "plt.plot([2,4,6,8],[0.2,0.4,0.3,0.8])\n",
    "plt.plot([2,4,6,8],[0.2,0.3,0.9,0.78])"
   ]
  },
  {
   "cell_type": "code",
   "execution_count": null,
   "metadata": {},
   "outputs": [],
   "source": [
    "def mnb_model(x_train, y_train, x_cv, y_cv, x_test, y_test, algo,step):\n",
    "    '''this function uses the validation dataset to find the optimal k \n",
    "    and uses the optimal k and trained algorithm to predict the test data'''\n",
    "    \n",
    "    ##finding the optimal alpha using validation dataset\n",
    "    print('------------------------------------------------------------')\n",
    "    print('started finding the optimal alpha for MultinomialNB algorithm')\n",
    "    alpha_values = list(np.logspace(np.log(0.00005), np.log(10000), base = np.exp(1), num = 20))\n",
    "    train_auc = []\n",
    "    auc = []\n",
    "    best_cv_predict = 0\n",
    "    best_fpr = 0\n",
    "    best_tpr= 0\n",
    "    for a in alpha_values:\n",
    "        mnb = MultinomialNB(alpha=a)\n",
    "        mnb.fit(x_train, y_train)\n",
    "        #cv_predict = knn.predict(x_cv)\n",
    "        #if you have enough ram run above code otherwise run below\n",
    "        predicted_labels = []\n",
    "        predicted_prob = []\n",
    "        train_predicted_labels = []\n",
    "        train_predicted_prob = []\n",
    "        \n",
    "        for i in range(0, x_cv.shape[0], 500):\n",
    "            predicted_labels.extend(mnb.predict(x_cv[i:i+500]))\n",
    "            predicted_prob.extend(mnb.predict_proba(x_cv[i:i+500]))\n",
    "            \n",
    "        for i in range(0, x_train.shape[0], 500):\n",
    "            train_predicted_labels.extend(mnb.predict(x_train[i:i+500]))\n",
    "            train_predicted_prob.extend(mnb.predict_proba(x_train[i:i+500]))\n",
    "            \n",
    "        cv_predict = np.array(predicted_labels)\n",
    "        cv_predict_proba = np.array(predicted_prob)\n",
    "        train_predict = np.array(train_predicted_labels)\n",
    "        train_predict_proba = np.array(train_predicted_prob)\n",
    "        \n",
    "        fpr, tpr, thresholds = metrics.roc_curve(y_cv, [x[1] for x in predicted_prob], pos_label='Positive')\n",
    "        t_fpr, t_tpr, t_thresholds = metrics.roc_curve(y_train, [x[1] for x in train_predict_proba], pos_label='Positive')\n",
    "        auc_score = metrics.auc(fpr, tpr)\n",
    "        t_auc_score = metrics.auc(t_fpr, t_tpr)\n",
    "        #acc_score = accuracy_score(y_cv, cv_predict)\n",
    "        auc.append(auc_score)\n",
    "        train_auc.append(t_auc_score)\n",
    "        if auc_score >= max(auc):\n",
    "            best_cv_predict = cv_predict\n",
    "            best_cv_predict_proba = cv_predict_proba\n",
    "            best_fpr = fpr\n",
    "            best_tpr = tpr\n",
    "            print('as of now best alpha is {} with AUC score of {}'.format(a, auc_score))\n",
    "        \n",
    "    plt.figure(figsize=(16,4))\n",
    "    plt.plot(np.log(alpha_values), auc, label='validation AUC');\n",
    "    plt.plot(np.log(alpha_values), train_auc, label='train AUC');\n",
    "    plt.xticks(np.log(alpha_values));\n",
    "    plt.xlabel(\"log(alpha values)\")\n",
    "    plt.ylabel(\"auc score\")\n",
    "    plt.legend();\n",
    "    plt.title('auc score on train dataset and validation dataset with different alpha values');\n",
    "    plt.show()    \n",
    "    \n",
    "    optimal_alpha = alpha_values[auc.index(max(auc))]\n",
    "    print('alpha value which is giving highest AUC value of {} on cross vadiation dataset is {}'.format(max(auc), optimal_alpha))\n",
    "    \n",
    "    # AUC curve on this optimal alpha value on crossvalidation dataset\n",
    "    # ROC AUC PLOT\n",
    "    print('ROC plot with best alpha value on cross validation dataset')\n",
    "    skplt.metrics.plot_roc(y_cv, best_cv_predict_proba, title='ROC Curves on validation dataset')\n",
    "    plt.show()\n",
    "    \n",
    "    #confusion matrix of this optimal neighbour on crossvalidation dataset\n",
    "    cv_cm = pd.crosstab(y_cv, best_cv_predict, rownames=[\"actual Score\"], colnames=[\"predicted Score\"], normalize=True)\n",
    "    sns.heatmap(cv_cm, annot=True, fmt=\".4f\")\n",
    "    plt.title('Confusion matrix on validation dataset with best parameters');\n",
    "    plt.show()\n",
    "    \n",
    "    print('precission recall and f score on best optimal alpha predicted data of validation dataset is')\n",
    "    print(classification_report(y_cv, best_cv_predict))\n",
    "    print('------------------------------------------------------------------------------')\n",
    "    \n",
    "    # trainning the algorithm on train data and testing on the test data\n",
    "    print('training the algoritm using train data and predicting on the test dataset')\n",
    "    # x_train_valid = np.vstack((x_train, x_cv))\n",
    "    # y_train_valid = np.hstack((y_train, y_cv))\n",
    "    t_mnb = MultinomialNB(alpha=optimal_alpha)\n",
    "    t_mnb.fit(x_train, y_train)\n",
    "    #test_predict = knn.predict(x_test)\n",
    "    \n",
    "    predicted_list = []\n",
    "    predicted_prob_list = []\n",
    "    for i in range(0, x_test.shape[0], 500):\n",
    "        predicted_list.extend(t_mnb.predict(x_test[i:i+500]))\n",
    "        predicted_prob_list.extend(t_mnb.predict_proba(x_test[i:i+500]))\n",
    "        \n",
    "            \n",
    "    test_predict = np.array(predicted_list)\n",
    "    test_predict_proba = np.array(predicted_prob_list)\n",
    "    fpr, tpr, thresholds = metrics.roc_curve(y_test, [x[1] for x in predicted_prob_list], pos_label='Positive')\n",
    "    auc_score = metrics.auc(fpr, tpr)\n",
    "    \n",
    "    #print('accuracy score on test data is {}'.format(accuracy_score(y_test, test_predict)))\n",
    "    print('AUC score on test data is {}'.format(auc_score))\n",
    "    \n",
    "    #ROC plot on test dataset\n",
    "    skplt.metrics.plot_roc(y_test, test_predict_proba, title='ROC Curves on test dataset') \n",
    "    plt.show()\n",
    "    \n",
    "    #confusion matrix on test dataset\n",
    "    test_cm = pd.crosstab(y_test, test_predict, rownames=[\"actual Score\"], colnames=[\"predicted Score\"], normalize=True)\n",
    "    sns.heatmap(test_cm, annot=True, fmt=\".4f\")\n",
    "    plt.title('Confusion matrix on test dataset with best parameters');\n",
    "    plt.show()\n",
    "    \n",
    "    print('precission recall and f score using best optimal alpha predicted data on test dataset is')\n",
    "    print(classification_report(y_test, test_predict))\n",
    "    return t_mnb.feature_log_prob_"
   ]
  },
  {
   "cell_type": "markdown",
   "metadata": {},
   "source": [
    "## [5.1] Applying Naive Bayes on BOW unigram,<font color='red'> SET 1</font>"
   ]
  },
  {
   "cell_type": "code",
   "execution_count": 214,
   "metadata": {},
   "outputs": [
    {
     "name": "stdout",
     "output_type": "stream",
     "text": [
      "------------------------------------------------------------\n",
      "started finding the optimal alpha for MultinomialNB algorithm\n",
      "as of now best alpha is 5.000000000000007e-05 with AUC score of 0.8979668261607996\n",
      "as of now best alpha is 0.00013673078900308913 with AUC score of 0.8998645187447889\n",
      "as of now best alpha is 0.00037390617322814436 with AUC score of 0.9018673468350022\n",
      "as of now best alpha is 0.0010224897215721964 with AUC score of 0.9039663936537986\n",
      "as of now best alpha is 0.0027961165275623007 with AUC score of 0.9061572942175394\n",
      "as of now best alpha is 0.007646304379163406 with AUC score of 0.9083934917383161\n",
      "as of now best alpha is 0.02090970461441573 with AUC score of 0.9105694656982999\n",
      "as of now best alpha is 0.057180008195011796 with AUC score of 0.9125634316870765\n",
      "as of now best alpha is 0.15636535271414095 with AUC score of 0.9143365103670822\n",
      "as of now best alpha is 0.4275991609870157 with AUC score of 0.9157761895008711\n",
      "as of now best alpha is 1.169319413176268 with AUC score of 0.9167118018732651\n"
     ]
    },
    {
     "data": {
      "image/png": "[encoded data removed]",
      "text/plain": [
       "<Figure size 1152x288 with 1 Axes>"
      ]
     },
     "metadata": {
      "needs_background": "light"
     },
     "output_type": "display_data"
    },
    {
     "name": "stdout",
     "output_type": "stream",
     "text": [
      "alpha value which is giving highest AUC value of 0.9167118018732651 on cross vadiation dataset is 1.169319413176268\n",
      "ROC plot with best alpha value on cross validation dataset\n"
     ]
    },
    {
     "data": {
      "image/png": "[encoded data removed]",
      "text/plain": [
       "<Figure size 432x288 with 1 Axes>"
      ]
     },
     "metadata": {
      "needs_background": "light"
     },
     "output_type": "display_data"
    },
    {
     "data": {
      "image/png": "[encoded data removed]",
      "text/plain": [
       "<Figure size 432x288 with 2 Axes>"
      ]
     },
     "metadata": {
      "needs_background": "light"
     },
     "output_type": "display_data"
    },
    {
     "name": "stdout",
     "output_type": "stream",
     "text": [
      "precission recall and f score on best optimal alpha predicted data of validation dataset is\n",
      "              precision    recall  f1-score   support\n",
      "\n",
      "    Negative       0.65      0.72      0.68      6564\n",
      "    Positive       0.94      0.92      0.93     33436\n",
      "\n",
      "   micro avg       0.89      0.89      0.89     40000\n",
      "   macro avg       0.80      0.82      0.81     40000\n",
      "weighted avg       0.90      0.89      0.89     40000\n",
      "\n",
      "------------------------------------------------------------------------------\n",
      "training the algoritm using train data and predicting on the test dataset\n",
      "accuracy score on test data is 0.889625\n",
      "AUC score on test data is 0.9141009308333796\n"
     ]
    },
    {
     "data": {
      "image/png": "[encoded data removed]",
      "text/plain": [
       "<Figure size 432x288 with 1 Axes>"
      ]
     },
     "metadata": {
      "needs_background": "light"
     },
     "output_type": "display_data"
    },
    {
     "data": {
      "image/png": "[encoded data removed]",
      "text/plain": [
       "<Figure size 432x288 with 2 Axes>"
      ]
     },
     "metadata": {
      "needs_background": "light"
     },
     "output_type": "display_data"
    },
    {
     "name": "stdout",
     "output_type": "stream",
     "text": [
      "precission recall and f score using best optimal alpha predicted data on test dataset is\n",
      "              precision    recall  f1-score   support\n",
      "\n",
      "    Negative       0.64      0.72      0.68      6501\n",
      "    Positive       0.94      0.92      0.93     33499\n",
      "\n",
      "   micro avg       0.89      0.89      0.89     40000\n",
      "   macro avg       0.79      0.82      0.81     40000\n",
      "weighted avg       0.90      0.89      0.89     40000\n",
      "\n",
      "Wall time: 59.6 s\n"
     ]
    }
   ],
   "source": [
    "%%time\n",
    "unigram_feature_lob_probs = mnb_model(x_train=unigram_xtrain_vect, y_train=train_df.Score, x_cv=unigram_xcv_vect, y_cv=cv_df.Score, x_test=unigram_xtest_vect, y_test=test_df.Score, algo='brute', step=4)"
   ]
  },
  {
   "cell_type": "code",
   "execution_count": null,
   "metadata": {},
   "outputs": [],
   "source": [
    "unigram_feature_lob_probs"
   ]
  },
  {
   "cell_type": "code",
   "execution_count": null,
   "metadata": {},
   "outputs": [],
   "source": [
    "print(\"hi\")"
   ]
  },
  {
   "cell_type": "code",
   "execution_count": 207,
   "metadata": {},
   "outputs": [
    {
     "data": {
      "image/png": "[encoded data removed]",
      "text/plain": [
       "<Figure size 432x288 with 1 Axes>"
      ]
     },
     "metadata": {
      "needs_background": "light"
     },
     "output_type": "display_data"
    }
   ],
   "source": [
    "plt.plot(np.log(a), au, label='validation dataset')\n",
    "plt.plot(np.log(a), tau, label='train')\n",
    "plt.legend(loc='upper right');"
   ]
  },
  {
   "cell_type": "markdown",
   "metadata": {},
   "source": [
    "### [5.1.1] Top 10 important features of positive class from unigram<font color='red'> SET 1</font>"
   ]
  },
  {
   "cell_type": "markdown",
   "metadata": {},
   "source": [
    "### [5.1.2] Top 10 important features of negative class from unigram <font color='red'> SET 1</font>"
   ]
  },
  {
   "cell_type": "markdown",
   "metadata": {},
   "source": [
    "## [5.2] Applying Naive Bayes on bigram,<font color='red'> SET 1</font>"
   ]
  },
  {
   "cell_type": "code",
   "execution_count": 143,
   "metadata": {},
   "outputs": [],
   "source": [
    "%%time\n",
    "mnb_model(x_train=bigram_xtrain_vect, y_train=train_df.Score, x_cv=bigram_xcv_vect, y_cv=cv_df.Score, x_test=bigram_xtest_vect, y_test=test_df.Score, algo='brute', step=4)"
   ]
  },
  {
   "cell_type": "markdown",
   "metadata": {},
   "source": [
    "### [5.2.1] Top 10 important features of positive class from bigram<font color='red'> SET 1</font>"
   ]
  },
  {
   "cell_type": "markdown",
   "metadata": {},
   "source": [
    "### [5.2.2] Top 10 important features of negative class from bigram<font color='red'> SET 1</font>"
   ]
  },
  {
   "cell_type": "markdown",
   "metadata": {},
   "source": [
    "## [5.3] Applying Naive Bayes on trigram,<font color='red'> SET 1</font>"
   ]
  },
  {
   "cell_type": "code",
   "execution_count": null,
   "metadata": {},
   "outputs": [],
   "source": [
    "%%time\n",
    "mnb_model(x_train=trigram_xtrain_vect, y_train=train_df.Score, x_cv=trigram_xcv_vect, y_cv=cv_df.Score, x_test=trigram_xtest_vect, y_test=test_df.Score, algo='brute', step=4)"
   ]
  },
  {
   "cell_type": "markdown",
   "metadata": {},
   "source": [
    "### [5.3.1] Top 10 important features of positive class from trigram<font color='red'> SET 1</font>"
   ]
  },
  {
   "cell_type": "markdown",
   "metadata": {},
   "source": [
    "### [5.3.2] Top 10 important features of negative class from trigram<font color='red'> SET 1</font>"
   ]
  },
  {
   "cell_type": "markdown",
   "metadata": {},
   "source": [
    "## [5.4] Applying Naive Bayes on TFIDF,<font color='red'> SET 2</font>"
   ]
  },
  {
   "cell_type": "code",
   "execution_count": null,
   "metadata": {},
   "outputs": [],
   "source": [
    "%%time\n",
    "mnb_model(x_train=tfidf_xtrain_vect, y_train=train_df.Score, x_cv=tfidf_xcv_vect, y_cv=cv_df.Score, x_test=tfidf_xtest_vect, y_test=test_df.Score, algo='brute', step=4)"
   ]
  },
  {
   "cell_type": "markdown",
   "metadata": {},
   "source": [
    "### [5.4.1] Top 10 important features of positive class from TFIDF<font color='red'> SET 2</font>"
   ]
  },
  {
   "cell_type": "markdown",
   "metadata": {},
   "source": [
    "### [5.4.2] Top 10 important features of negative class from TFIDF<font color='red'> SET 2</font>"
   ]
  },
  {
   "cell_type": "code",
   "execution_count": null,
   "metadata": {},
   "outputs": [],
   "source": []
  }
 ],
 "metadata": {
  "kernelspec": {
   "display_name": "Python 3",
   "language": "python",
   "name": "python3"
  },
  "language_info": {
   "codemirror_mode": {
    "name": "ipython",
    "version": 3
   },
   "file_extension": ".py",
   "mimetype": "text/x-python",
   "name": "python",
   "nbconvert_exporter": "python",
   "pygments_lexer": "ipython3",
   "version": "3.7.1"
  }
 },
 "nbformat": 4,
 "nbformat_minor": 2
}
